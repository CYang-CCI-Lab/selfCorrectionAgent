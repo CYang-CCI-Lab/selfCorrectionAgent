{
 "cells": [
  {
   "cell_type": "code",
   "execution_count": 1,
   "metadata": {},
   "outputs": [],
   "source": [
    "import openai"
   ]
  },
  {
   "cell_type": "code",
   "execution_count": 2,
   "metadata": {},
   "outputs": [],
   "source": [
    "class Agent:\n",
    "    def __init__(self, api_key, role):\n",
    "        self.api_key = api_key\n",
    "        self.role = role\n",
    "        self.conversation_history = []\n",
    "        self.memory = []\n",
    "        openai.api_key = self.api_key\n",
    "\n",
    "    def generate_prompt(self):\n",
    "        prompt = f\"{self.role}:\\n\"\n",
    "        for message in self.conversation_history:\n",
    "            prompt += message + \"\\n\"\n",
    "        return prompt\n",
    "    \n",
    "    def ask_question(self, question):\n",
    "        return f\"User: {question}\"\n",
    "    \n",
    "    def perform_task(self, agent_message):\n",
    "        self.conversation_history.append(agent_message)\n",
    "        prompt = self.generate_prompt()\n",
    "        response = openai.completions.create(model = \"\", prompt = prompt, max_tokens=120)\n",
    "        self.add_to_conversation(f\"AI: {response.choices[0].text.strip()}\")\n",
    "        return response.choices[0].text.strip()\n",
    "    \n",
    "    def negotiate(self, message):\n",
    "        self.add_to_conversation(message)\n",
    "        prompt = self.generate_prompt()\n",
    "        response = openai.completions.create(model=\"\", prompt= prompt, max_tokens=100)\n",
    "        ai_response = response.choices[0].text.strip()\n",
    "        self.add_to_conversation(ai_response)\n",
    "        return ai_response\n",
    "\n",
    "    def mediate(self, negotiation_agents):\n",
    "        for agent in negotiation_agents:\n",
    "            self.add_to_converation(agent.conversation_history[-1])\n",
    "        prompt = self.generate_prompt()\n",
    "        response = openai.completions.create(model= \"\", prompt = prompt, max_tokens=100)\n",
    "        ai_response = response.choices[0].text.strip()\n",
    "        self.add_to_converation(ai_response)\n",
    "        return ai_response\n",
    "\n",
    "    def keep_memory(self):\n",
    "        print(\"Keep the current memory.\")\n",
    "\n",
    "    def evaluate_memory(self, agent):\n",
    "        if \n",
    "    def answer_question(self, user_message):\n",
    "        self.add_to_conversation(user_message)\n",
    "        prompt = self.generate_prompt()\n",
    "        response = openai.completions.create(model = \"\", prompt = prompt, max_tokens= 100)\n",
    "        ai_response = response.choices[0].text.strip()\n",
    "        self.add_to_conversation(f\"AI: {ai_response}\")\n",
    "\n",
    "        if \"no\" in ai_response:\n",
    "            self.keep_memory()\n",
    "        \n",
    "        return ai_response\n",
    "\n"
   ]
  },
  {
   "cell_type": "code",
   "execution_count": null,
   "metadata": {},
   "outputs": [],
   "source": [
    "user_agent = PredictAgent(\"api\")\n",
    "evaluate_agent = MemoryEvaluateAgent(\"api\")\n",
    "\n",
    "question = user_agent.ask_question(\"blah\")\n",
    "print(question)\n",
    "\n",
    "answer = evaluate_agent(question)\n",
    "print(answer)\n",
    "\n",
    "## meaningless\n",
    "question = user_agent.ask_question(\"blah\")\n",
    "print(question)\n",
    "\n",
    "answer = evaluate_agent(question)\n",
    "print(answer)"
   ]
  },
  {
   "cell_type": "code",
   "execution_count": 3,
   "metadata": {},
   "outputs": [
    {
     "ename": "NameError",
     "evalue": "name 'NegotiateAgent' is not defined",
     "output_type": "error",
     "traceback": [
      "\u001b[0;31m---------------------------------------------------------------------------\u001b[0m",
      "\u001b[0;31mNameError\u001b[0m                                 Traceback (most recent call last)",
      "Cell \u001b[0;32mIn[3], line 1\u001b[0m\n\u001b[0;32m----> 1\u001b[0m negotiation_agent1 \u001b[38;5;241m=\u001b[39m \u001b[43mNegotiateAgent\u001b[49m(\u001b[38;5;124m\"\u001b[39m\u001b[38;5;124mapi\u001b[39m\u001b[38;5;124m\"\u001b[39m, \u001b[38;5;124m\"\u001b[39m\u001b[38;5;124mparty1\u001b[39m\u001b[38;5;124m\"\u001b[39m)\n\u001b[1;32m      2\u001b[0m negotiation_agent2 \u001b[38;5;241m=\u001b[39m NegotiateAgent(\u001b[38;5;124m\"\u001b[39m\u001b[38;5;124mapi\u001b[39m\u001b[38;5;124m\"\u001b[39m, \u001b[38;5;124m\"\u001b[39m\u001b[38;5;124mparty2\u001b[39m\u001b[38;5;124m\"\u001b[39m)\n",
      "\u001b[0;31mNameError\u001b[0m: name 'NegotiateAgent' is not defined"
     ]
    }
   ],
   "source": [
    "negotiation_agent1 = NegotiateAgent(\"api\", \"party1\")\n",
    "negotiation_agent2 = NegotiateAgent(\"api\", \"party2\")\n",
    "mediator_agent = MediatorAgent(\"api\")\n",
    "\n",
    "negotiation1 = negotiation_agent1.negotiate(\"we want to do this\")\n",
    "negotiation2 = negotiation_agent2.negotiate(\"we can only,,,\")\n",
    "\n",
    "mediation = mediator_agent.mediate([negotiation_agent1, negotiation_agent2])\n",
    "print(mediation)\n",
    "\n",
    "negotiation1 = negotiation_agent1.negotiate(\"can we meet in the middle at ~~~\")\n",
    "negotiation2 = negotiation_agent2.negotiate(\"we can agree to ~~~\")\n",
    "\n",
    "mediation = mediator_agent.mediate([negotiation_agent1, negotiation_agent2])\n",
    "print(mediation)"
   ]
  },
  {
   "cell_type": "code",
   "execution_count": null,
   "metadata": {},
   "outputs": [],
   "source": []
  }
 ],
 "metadata": {
  "kernelspec": {
   "display_name": "selfCorrection",
   "language": "python",
   "name": "python3"
  },
  "language_info": {
   "codemirror_mode": {
    "name": "ipython",
    "version": 3
   },
   "file_extension": ".py",
   "mimetype": "text/x-python",
   "name": "python",
   "nbconvert_exporter": "python",
   "pygments_lexer": "ipython3",
   "version": "3.9.19"
  }
 },
 "nbformat": 4,
 "nbformat_minor": 2
}
