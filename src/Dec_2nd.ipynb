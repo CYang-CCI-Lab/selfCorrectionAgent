{
 "cells": [
  {
   "cell_type": "code",
   "execution_count": 1,
   "metadata": {},
   "outputs": [],
   "source": [
    "import pandas as pd"
   ]
  },
  {
   "cell_type": "markdown",
   "metadata": {},
   "source": [
    "# Filter out the training set (is_correct_on(gpt) and !is_correct_on(llama))\n",
    "### 일단 T에 대해서만"
   ]
  },
  {
   "cell_type": "code",
   "execution_count": 5,
   "metadata": {},
   "outputs": [],
   "source": [
    "gpt_df = pd.read_csv('/home/yl3427/cylab/selfCorrectionAgent/result/1112_t14_gpt_test_0_outof_8runs.csv').sort_values(by=\"patient_filename\")\n",
    "llama_df = pd.read_csv('/home/yl3427/cylab/selfCorrectionAgent/result/1208_t14_llama3_kewltm_0_outof_10runs.csv').sort_values(by=\"patient_filename\")"
   ]
  },
  {
   "cell_type": "code",
   "execution_count": 6,
   "metadata": {},
   "outputs": [
    {
     "data": {
      "text/plain": [
       "Index(['patient_filename', 't', 'text', 't14_kewltm_t_is_parsed',\n",
       "       't14_kewltm_t_reasoning', 't14_kewltm_t_pred'],\n",
       "      dtype='object')"
      ]
     },
     "execution_count": 6,
     "metadata": {},
     "output_type": "execute_result"
    }
   ],
   "source": [
    "llama_df.columns"
   ]
  },
  {
   "cell_type": "code",
   "execution_count": 10,
   "metadata": {},
   "outputs": [
    {
     "name": "stdout",
     "output_type": "stream",
     "text": [
      "2 T3 T2\n",
      "1 T2 T1\n",
      "1 T2 T4\n",
      "2 T3 T2\n",
      "0 T1 T2\n",
      "2 T3 T2\n",
      "0 T1 T2\n",
      "0 T1 T2\n",
      "0 T1 T2\n",
      "2 T3 T2\n",
      "2 T3 T4\n",
      "0 T1 T2\n",
      "0 T1 T2\n",
      "0 T1 T2\n",
      "2 T3 T2\n",
      "1 T2 T4\n",
      "0 T1 T2\n",
      "1 T2 T4\n",
      "2 T3 T2\n",
      "2 T3 T2\n",
      "1 T2 T1\n",
      "0 T1 T2\n",
      "1 T2 T4\n",
      "1 T2 T1\n",
      "1 T2 T4\n",
      "2 T3 T4\n",
      "1 T2 T3\n",
      "2 T3 T2\n",
      "0 T1 T2\n",
      "0 T1 T2\n",
      "1 T2 T4\n",
      "2 T3 T2\n",
      "1 T2 T4\n",
      "0 T1 T2\n",
      "1 T2 T1\n",
      "1 T2 T1\n",
      "0 T1 T2\n",
      "2 T3 T2\n",
      "0 T1 T2\n",
      "2 T3 T2\n",
      "0 T1 T2\n",
      "2 T3 T4\n",
      "0 T1 T2\n",
      "1 T2 T4\n",
      "2 T3 T4\n",
      "2 T3 T4\n",
      "2 T3 T2\n",
      "0 T1 T2\n",
      "2 T3 T4\n",
      "0 T1 T2\n",
      "2 T3 T2\n",
      "1 T2 T4\n",
      "0 T1 T2\n",
      "2 T3 T2\n",
      "0 T1 T2\n",
      "0 T1 T2\n",
      "2 T3 T4\n",
      "2 T3 T4\n",
      "0 T1 T2\n",
      "0 T1 T2\n",
      "1 T2 T1\n",
      "0 T1 T2\n",
      "1 T2 T1\n",
      "0 T1 T4\n",
      "2 T3 T2\n",
      "2 T3 T2\n",
      "1 T2 T1\n",
      "0 T1 T2\n",
      "2 T3 T2\n",
      "1 T2 T1\n",
      "2 T3 T2\n",
      "0 T1 T4\n",
      "72\n"
     ]
    }
   ],
   "source": [
    "n = 0\n",
    "for i in range(len(gpt_df)):\n",
    "    label = gpt_df.loc[i, 't']\n",
    "    gpt = gpt_df.loc[i, 'gpt4o_t_stage']\n",
    "    llama = llama_df.loc[i, 't14_kewltm_t_pred']\n",
    "    if (gpt != llama) and (gpt == f\"T{label+1}\"):\n",
    "        n += 1\n",
    "        print(f\"{label} {gpt} {llama}\")\n",
    "print(n)"
   ]
  },
  {
   "cell_type": "code",
   "execution_count": null,
   "metadata": {},
   "outputs": [],
   "source": [
    "rule_generation_prompt_initial = \"\"\"You are provided with a pathology report for a cancer patient.\n",
    "Please review this report and determine the pathologic T stage of the patient's cancer.\n",
    "\n",
    "Here is the report:\n",
    "{report}\n",
    "\n",
    "What is the T stage from this report? Ignore any substaging information. Please select from the following four options: T1, T2, T3, T4.\n",
    "\n",
    "Please induce a list of rules as knowledge that help you predict the T stage for the next report. Ensure there is at least one rule for each T stage (T1, T2, T3, T4) in the list of rules. Ensure each rule is general and applicable to the specific cancer type and the AJCC's TNM Staging System, avoiding any report-specific information.\n",
    "\"\"\"\n"
   ]
  },
  {
   "cell_type": "code",
   "execution_count": null,
   "metadata": {},
   "outputs": [],
   "source": [
    "initial_predict_prompt_t14 = \"\"\"You are provided with a pathology report for a cancer patient.\n",
    "Please review this report and determine the pathologic T stage of the patient's cancer.\n",
    "\n",
    "Here is the report:\n",
    "{report}\n",
    "\n",
    "What is your reasoning to support your T stage prediction?\n",
    "\n",
    "What is the T stage from this report? Ignore any substaging information. Please select from the following four options: T1, T2, T3, T4.\n",
    "\n",
    "Please induce a list of rules as knowledge that help you predict the T stage for the next report. Ensure there is at least one rule for each T stage (T1, T2, T3, T4) in the list of rules. Ensure each rule is general and applicable to the specific cancer type and the AJCC's TNM Staging System, avoiding any report-specific information.\n",
    "\"\"\"\n",
    "subsequent_predict_prompt_t14 = \"\"\"You are provided with a pathology report for a cancer patient.\n",
    "Here is a list of rules you have learned to correctly predict the T stage information:\n",
    "{rules}\n",
    "\n",
    "Please review this report and determine the pathologic T stage of the patient's cancer.\n",
    "\n",
    "Here is the report:\n",
    "{report}\n",
    "\n",
    "What is your reasoning to support your T stage prediction?\n",
    "\n",
    "What is the T stage from this report? Ignore any substaging information. Please select from the following four options: T1, T2, T3, T4.\n",
    "\n",
    "What is your updated list of rules that help you predict the T stage for the next report? You can either modify the original rules or add new ones. Ensure there is at least one rule for each T stage (T1, T2, T3, T4) in the list of rules. Ensure each rule is general and applicable to the specific cancer type and the AJCC's TNM Staging System, avoiding any report-specific information.\n",
    "\"\"\""
   ]
  },
  {
   "cell_type": "code",
   "execution_count": null,
   "metadata": {},
   "outputs": [],
   "source": []
  }
 ],
 "metadata": {
  "kernelspec": {
   "display_name": "umls_env_py310",
   "language": "python",
   "name": "python3"
  },
  "language_info": {
   "codemirror_mode": {
    "name": "ipython",
    "version": 3
   },
   "file_extension": ".py",
   "mimetype": "text/x-python",
   "name": "python",
   "nbconvert_exporter": "python",
   "pygments_lexer": "ipython3",
   "version": "3.10.13"
  }
 },
 "nbformat": 4,
 "nbformat_minor": 2
}
