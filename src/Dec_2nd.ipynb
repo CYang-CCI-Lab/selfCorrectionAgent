{
 "cells": [
  {
   "cell_type": "code",
   "execution_count": 1,
   "metadata": {},
   "outputs": [],
   "source": [
    "import pandas as pd"
   ]
  },
  {
   "cell_type": "markdown",
   "metadata": {},
   "source": [
    "# Filter out the training set (is_correct_on(gpt) and !is_correct_on(llama))\n",
    "### 일단 T에 대해서만"
   ]
  },
  {
   "cell_type": "code",
   "execution_count": 11,
   "metadata": {},
   "outputs": [
    {
     "name": "stdout",
     "output_type": "stream",
     "text": [
      "2 T3 T2\n",
      "1 T2 T1\n",
      "1 T2 T4\n",
      "2 T3 T2\n",
      "0 T1 T2\n",
      "2 T3 T2\n",
      "0 T1 T2\n",
      "0 T1 T2\n",
      "0 T1 T2\n",
      "2 T3 T2\n",
      "2 T3 T4\n",
      "0 T1 T2\n",
      "0 T1 T2\n",
      "0 T1 T2\n",
      "2 T3 T2\n",
      "1 T2 T4\n",
      "0 T1 T2\n",
      "1 T2 T4\n",
      "2 T3 T2\n",
      "2 T3 T2\n",
      "1 T2 T1\n",
      "0 T1 T2\n",
      "1 T2 T4\n",
      "1 T2 T1\n",
      "1 T2 T4\n",
      "2 T3 T4\n",
      "1 T2 T3\n",
      "2 T3 T2\n",
      "0 T1 T2\n",
      "0 T1 T2\n",
      "1 T2 T4\n",
      "2 T3 T2\n",
      "1 T2 T4\n",
      "0 T1 T2\n",
      "1 T2 T1\n",
      "1 T2 T1\n",
      "0 T1 T2\n",
      "2 T3 T2\n",
      "0 T1 T2\n",
      "2 T3 T2\n",
      "0 T1 T2\n",
      "2 T3 T4\n",
      "0 T1 T2\n",
      "1 T2 T4\n",
      "2 T3 T4\n",
      "2 T3 T4\n",
      "2 T3 T2\n",
      "0 T1 T2\n",
      "2 T3 T4\n",
      "0 T1 T2\n",
      "2 T3 T2\n",
      "1 T2 T4\n",
      "0 T1 T2\n",
      "2 T3 T2\n",
      "0 T1 T2\n",
      "0 T1 T2\n",
      "2 T3 T4\n",
      "2 T3 T4\n",
      "0 T1 T2\n",
      "0 T1 T2\n",
      "1 T2 T1\n",
      "0 T1 T2\n",
      "1 T2 T1\n",
      "0 T1 T4\n",
      "2 T3 T2\n",
      "2 T3 T2\n",
      "1 T2 T1\n",
      "0 T1 T2\n",
      "2 T3 T2\n",
      "1 T2 T1\n",
      "2 T3 T2\n",
      "0 T1 T4\n"
     ]
    }
   ],
   "source": [
    "training_set = set()\n",
    "gpt_df = pd.read_csv('/home/yl3427/cylab/selfCorrectionAgent/result/1112_t14_gpt_test_0_outof_8runs.csv').sort_values(by=\"patient_filename\")\n",
    "llama_df = pd.read_csv('/home/yl3427/cylab/selfCorrectionAgent/result/1208_t14_llama3_kewltm_0_outof_10runs.csv').sort_values(by=\"patient_filename\")\n",
    "for i in range(len(gpt_df)):\n",
    "    label = gpt_df.loc[i, 't']\n",
    "    gpt = gpt_df.loc[i, 'gpt4o_t_stage']\n",
    "    llama = llama_df.loc[i, 't14_kewltm_t_pred']\n",
    "    if (gpt != llama) and (gpt == f\"T{label+1}\"):\n",
    "        training_set.add(gpt_df.loc[i, 'patient_filename'])"
   ]
  },
  {
   "cell_type": "code",
   "execution_count": null,
   "metadata": {},
   "outputs": [],
   "source": []
  }
 ],
 "metadata": {
  "kernelspec": {
   "display_name": "umls_env_py310",
   "language": "python",
   "name": "python3"
  },
  "language_info": {
   "codemirror_mode": {
    "name": "ipython",
    "version": 3
   },
   "file_extension": ".py",
   "mimetype": "text/x-python",
   "name": "python",
   "nbconvert_exporter": "python",
   "pygments_lexer": "ipython3",
   "version": "3.10.13"
  }
 },
 "nbformat": 4,
 "nbformat_minor": 2
}
