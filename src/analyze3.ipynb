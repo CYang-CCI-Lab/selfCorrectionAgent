{
 "cells": [
  {
   "cell_type": "markdown",
   "metadata": {},
   "source": [
    "# Qual"
   ]
  },
  {
   "cell_type": "code",
   "execution_count": 40,
   "metadata": {},
   "outputs": [],
   "source": [
    "import pandas as pd\n",
    "from metrics import *\n",
    "from pprint import pprint\n",
    "import json\n",
    "import os"
   ]
  },
  {
   "cell_type": "markdown",
   "metadata": {},
   "source": [
    "### T"
   ]
  },
  {
   "cell_type": "code",
   "execution_count": null,
   "metadata": {},
   "outputs": [],
   "source": [
    "train_data = pd.read_csv(f\"/home/yl3427/cylab/selfCorrectionAgent/result/t14_train_8.csv\")\n",
    "memory_dict_t = {}\n",
    "for idx, row in train_data.iterrows():\n",
    "    # if row[\"cmem_t_is_updated\"] == True:\n",
    "    memory_dict_t[f\"{idx+1}\"] = row['cmem_t_memory_str']\n",
    "print(memory_dict_t['30'])\n",
    "\n",
    "t_memory_df = pd.read_csv(\"/home/yl3427/cylab/selfCorrectionAgent/t14_test_8_memory_at_30\")\n",
    "t_zs_df = pd.read_csv(\"/home/yl3427/cylab/selfCorrectionAgent/t14_zs_test_8\")"
   ]
  },
  {
   "cell_type": "code",
   "execution_count": null,
   "metadata": {},
   "outputs": [],
   "source": [
    "t_memory_result = t14_calculate_metrics(t_memory_df['t'], t_memory_df['cmem_t_ans_str'])\n",
    "t_memory_result"
   ]
  },
  {
   "cell_type": "code",
   "execution_count": null,
   "metadata": {},
   "outputs": [],
   "source": [
    "t_zs_result = t14_calculate_metrics(t_zs_df['t'], t_zs_df['zs_t_ans_str'])\n",
    "t_zs_result"
   ]
  },
  {
   "cell_type": "code",
   "execution_count": null,
   "metadata": {},
   "outputs": [],
   "source": [
    "df_memory = pd.DataFrame(t_memory_result).T\n",
    "df_zs = pd.DataFrame(t_zs_result).T\n",
    "\n",
    "# Combine both DataFrames for comparison\n",
    "df_comparison = pd.concat([df_memory, df_zs], axis=1, keys=['t_memory_result', 't_zs_result'])\n",
    "\n",
    "df_comparison.to_csv(\"t14_test_8_comparison.csv\")"
   ]
  },
  {
   "cell_type": "code",
   "execution_count": null,
   "metadata": {},
   "outputs": [],
   "source": [
    "for memory_patient, zs_patient in zip(t_memory_df.patient_filename, t_zs_df.patient_filename):\n",
    "    assert memory_patient == zs_patient\n",
    "\n",
    "print(memory_dict_t['30'])\n",
    "print()\n",
    "\n",
    "output_dir = \"studio_data/both_error/t14\"\n",
    "os.makedirs(output_dir, exist_ok=True)\n",
    "\n",
    "for idx, (filename, label, memory_ans, zs_ans, memory_rsn, zs_rsn) in enumerate(zip(t_memory_df.patient_filename, t_memory_df.t, t_memory_df.cmem_t_ans_str, t_zs_df.zs_t_ans_str, t_memory_df.cmem_t_reasoning, t_zs_df.zs_t_reasoning)):\n",
    "    # if (memory_ans == zs_ans) and (f\"T{label+1}\" in memory_ans.upper()): # cases where both are correct\n",
    "    # if (f\"T{label+1}\" not in zs_ans.upper()) and (f\"T{label+1}\" in memory_ans.upper()): # cases where only memory was correct\n",
    "    # if (f\"T{label+1}\" in zs_ans.upper()) and (f\"T{label+1}\" not in memory_ans.upper()): # cases where only zs was correct\n",
    "    if (f\"T{label+1}\" not in zs_ans.upper()) and (f\"T{label+1}\" not in memory_ans.upper()): # cases where both were wrong\n",
    "        data = {\n",
    "            \"data\": {\n",
    "                \"humanMachineDialogue\": [\n",
    "                    {\"author\": \"Patient filename\", \"text\": filename},\n",
    "                    {\"author\": \"Memory Reasoning\", \"text\": memory_rsn},\n",
    "                    {\"author\": \"ZS Reasoning\", \"text\": zs_rsn}, \n",
    "                    {\"author\": \"Answer\", \"text\": f\"T{label+1}\"},\n",
    "                    {\"author\": \"Memory Answer\", \"text\": memory_ans},\n",
    "                    {\"author\": \"ZS Answer\", \"text\": zs_ans}\n",
    "                ]\n",
    "            }\n",
    "        }\n",
    "        \n",
    "        file_name = f\"t_data_{idx}.json\"\n",
    "        file_path = os.path.join(output_dir, file_name)\n",
    "        with open(file_path, 'w') as json_file:\n",
    "            json.dump(data, json_file, indent=4)"
   ]
  },
  {
   "cell_type": "markdown",
   "metadata": {},
   "source": [
    "### N"
   ]
  },
  {
   "cell_type": "code",
   "execution_count": 41,
   "metadata": {},
   "outputs": [
    {
     "name": "stdout",
     "output_type": "stream",
     "text": [
      "Rule 1: The N stage is determined by the number of positive lymph nodes.\n",
      "Rule 2: N0 indicates no positive lymph nodes.\n",
      "Modified Rule 6: N0 indicates no metastatic carcinoma in sentinel lymph nodes and regional lymph nodes.\n",
      "Rule 7: Nx indicates that the lymph nodes cannot be assessed.\n",
      "Rule 8: If no lymph nodes are positive for metastasis, the N stage is N0.\n",
      "Rule 9: Metastases in a specific number of lymph nodes corresponds to the N stage as per the AJCC staging system.\n",
      "New Rule 10: N0 can indicate no metastatic carcinoma in sentinel lymph nodes and regional lymph nodes.\n",
      "New Rule 11: N0 can indicate that all assessed lymph nodes are negative for metastatic carcinoma.\n",
      "New Rule 12: N1 indicates metastases in 1 to 3 axillary lymph nodes (No/Total)\n",
      "New Rule 13: N3 indicates metastases in 4 or more axillary lymph nodes, or in in-transit, satellite, or micrometastases (N3mi) in 4 or more lymph nodes, or in ipsilateral internal mammary lymph nodes in the absence of axillary lymph node metastases\n",
      "New Rule 14: N2 indicates metastases in 4 to 9 axillary lymph nodes, or in in-transit, satellite, or micrometastases (N2mi) in 1 to 3 lymph nodes\n",
      "New Rule 15: N2a indicates metastases in 4 to 9 axillary lymph nodes\n"
     ]
    }
   ],
   "source": [
    "train_data = pd.read_csv(f\"/home/yl3427/cylab/selfCorrectionAgent/result/n03_train_8.csv\")\n",
    "memory_dict_n = {}\n",
    "for idx, row in train_data.iterrows():\n",
    "    # if row[\"cmem_t_is_updated\"] == True:\n",
    "    memory_dict_n[f\"{idx+1}\"] = row['cmem_n_memory_str']\n",
    "print(memory_dict_n['50'])\n",
    "\n",
    "n_memory_df = pd.read_csv(\"/home/yl3427/cylab/selfCorrectionAgent/n03_test_8_memory_at_50\")\n",
    "n_zs_df = pd.read_csv(\"/home/yl3427/cylab/selfCorrectionAgent/n03_zs_test_8\")"
   ]
  },
  {
   "cell_type": "code",
   "execution_count": null,
   "metadata": {},
   "outputs": [],
   "source": [
    "n_memory_result = n03_calculate_metrics(n_memory_df['n'], n_memory_df['cmem_n_ans_str'])\n",
    "n_memory_result"
   ]
  },
  {
   "cell_type": "code",
   "execution_count": null,
   "metadata": {},
   "outputs": [],
   "source": [
    "n_zs_result = n03_calculate_metrics(n_zs_df['n'], n_zs_df['zs_n_ans_str'])\n",
    "n_zs_result"
   ]
  },
  {
   "cell_type": "code",
   "execution_count": null,
   "metadata": {},
   "outputs": [],
   "source": [
    "df_memory = pd.DataFrame(n_memory_result).T\n",
    "df_zs = pd.DataFrame(n_zs_result).T\n",
    "\n",
    "# Combine both DataFrames for comparison\n",
    "df_comparison = pd.concat([df_memory, df_zs], axis=1, keys=['n_memory_result', 'n_zs_result'])\n",
    "\n",
    "df_comparison.to_csv(\"n03_test_8_comparison.csv\")"
   ]
  },
  {
   "cell_type": "code",
   "execution_count": null,
   "metadata": {},
   "outputs": [],
   "source": [
    "for memory_patient, zs_patient in zip(n_memory_df.patient_filename, n_zs_df.patient_filename):\n",
    "    assert memory_patient == zs_patient\n",
    "\n",
    "print(memory_dict_n['50'])\n",
    "print()\n",
    "\n",
    "output_dir = \"studio_data/both_error/n03\"\n",
    "os.makedirs(output_dir, exist_ok=True)\n",
    "\n",
    "for idx, (filename, label, memory_ans, zs_ans, memory_rsn, zs_rsn) in enumerate(zip(n_memory_df.patient_filename, n_memory_df.n, n_memory_df.cmem_n_ans_str, n_zs_df.zs_n_ans_str, n_memory_df.cmem_n_reasoning, n_zs_df.zs_n_reasoning)):\n",
    "    # if (memory_ans == zs_ans) and (f\"N{label}\" in memory_ans.upper()): # cases where both are correct\n",
    "    # if (f\"N{label}\" not in zs_ans.upper()) and (f\"N{label}\" in memory_ans.upper()): # cases where only memory was correct\n",
    "    # if (f\"N{label}\" in zs_ans.upper()) and (f\"N{label}\" not in memory_ans.upper()): # cases where only zs was correct\n",
    "    if (f\"N{label}\" not in zs_ans.upper()) and (f\"N{label}\" not in memory_ans.upper()): # cases where both were wrong\n",
    "        data = {\n",
    "            \"data\": {\n",
    "                \"humanMachineDialogue\": [\n",
    "                    {\"author\": \"Patient filename\", \"text\": filename},\n",
    "                    {\"author\": \"Memory Reasoning\", \"text\": memory_rsn},\n",
    "                    {\"author\": \"ZS Reasoning\", \"text\": zs_rsn}, \n",
    "                    {\"author\": \"Answer\", \"text\": f\"N{label}\"},\n",
    "                    {\"author\": \"Memory Answer\", \"text\": memory_ans},\n",
    "                    {\"author\": \"ZS Answer\", \"text\": zs_ans}\n",
    "                ]\n",
    "            }\n",
    "        }\n",
    "        \n",
    "        file_name = f\"n_data_{idx}.json\"\n",
    "        file_path = os.path.join(output_dir, file_name)\n",
    "        with open(file_path, 'w') as json_file:\n",
    "            json.dump(data, json_file, indent=4)"
   ]
  },
  {
   "cell_type": "markdown",
   "metadata": {},
   "source": [
    "# retrieve report, given patient_filename"
   ]
  },
  {
   "cell_type": "code",
   "execution_count": 8,
   "metadata": {},
   "outputs": [
    {
     "data": {
      "text/plain": [
       "Index(['Unnamed: 0', 'patient_filename', 't', 'text', 'n', 'zs_t_is_parsed',\n",
       "       'zs_t_reasoning', 'zs_t_ans_str', 'zs_n_is_parsed', 'zs_n_reasoning',\n",
       "       'zs_n_ans_str', 'cmem_t_is_parsed', 'cmem_t_reasoning',\n",
       "       'cmem_t_ans_str', 'cmem_n_is_parsed', 'cmem_n_reasoning',\n",
       "       'cmem_n_ans_str'],\n",
       "      dtype='object')"
      ]
     },
     "execution_count": 8,
     "metadata": {},
     "output_type": "execute_result"
    }
   ],
   "source": [
    "n_memory_df.columns"
   ]
  },
  {
   "cell_type": "code",
   "execution_count": 13,
   "metadata": {},
   "outputs": [],
   "source": [
    "zs_predict_prompt_n03 = \"\"\"You are provided with a pathology report for a cancer patient.\n",
    "\n",
    "Please review this report and determine the pathologic N stage of the patient's cancer.\n",
    "\n",
    "Here is the report:\n",
    "{report}\n",
    "\n",
    "What is your reasoning to support your N stage prediction?\n",
    "\n",
    "What is the N stage from this report? Ignore any substaging information. Please select from the following four options: N0, N1, N2, N3.\n",
    "\"\"\"\n",
    "\n",
    "zs_predict_prompt_t14 = \"\"\"You are provided with a pathology report for a cancer patient.\n",
    "\n",
    "Please review this report and determine the pathologic T stage of the patient's cancer.\n",
    "\n",
    "Here is the report:\n",
    "{report}\n",
    "\n",
    "What is your reasoning to support your T stage prediction? \n",
    "\n",
    "What is the T stage from this report? Ignore any substaging information. Please select from the following four options: T1, T2, T3, T4.\n",
    "\"\"\""
   ]
  },
  {
   "cell_type": "code",
   "execution_count": 44,
   "metadata": {},
   "outputs": [
    {
     "name": "stdout",
     "output_type": "stream",
     "text": [
      "You are provided with a pathology report for a cancer patient.\n",
      "\n",
      "Please review this report and determine the pathologic N stage of the patient's cancer.\n",
      "\n",
      "Here is the report:\n",
      "FINAL PATHOLOGIC DIAGNOSIS. A. Breast, left; modified radical mastectomy: - Invasive ductal carcinoma, SBR grade 2, see parameters. - Ductal carcinoma in situ, intermediate grade, solid and cribriform types. with associated necrosis. - Surgical margins free of tumor. - Biopsy site changes. - Fourteen nodes, negative for carcinoma (0/14). - Nipple, areola, and skin without diagnostic abnormality. B. Breast, right; simple mastectomy: - Invasive ductal carcinoma, SBR grade 2, inferior-anterior of hematoma. cavity, see parameters. - Extensive ductal carcinoma in situ, intermediate grade, solid type, with. associated central necrosis. - Anterior-inferior margin positive for invasive carcinoma. - Attached skeletal muscle focally infiltrated by invasive carcinoma. (anterior-inferior). - Columnar cell change and adenosis. - Intraductal papilloma. - Nipple, areola, and skin without diagnostic abnormality. Breast Pathologic Parameters (Part A Left Breast). 1. Invasive carcinoma: A. Gross measurement: 1.9 X 1.5 X 1.5 cm. B. Composite histologic (modified SBR) grade: II. - Architecture: 2. - Nuclear grade: 3. - Mitotic count: 1. C. Associated intraductal carcinoma in situ (DCIS): - Within main mass (forming 10 % of tumor volume). - Extending away from main lesion. 2. Intraductal carcinoma: A. Gross or microscopic (specify) measurement: (5.2 cm, spanning 4 slices). B. Type: Cribriform and Solid. C. Nuclear grade: Intermediate. D. Associated features: Necrosis. 3. Excisional biopsy margins: Free of tumor. - DCIS 4 mm from posterior margin. - Invasive carcinoma 5 mm from posterior (closest) margin. 4. Blood vessel and lymphatic invasion: Not identified. 5. Nipple: unremarkable. 6. Skin: uninvolved. 7. Skeletal muscle: Focally present, negative for tumor. 8. Axillary lymph nodes: In combination with previous sentinel lymph node biopsy. (see. One of fifteen nodes positive for carcinoma (1/15). - Size of largest metastatic deposit: 18 mm. - Extranodal extension: present (2 mm; largest focus). 9. Special studies (see. - ER: Positive expression in >95% of invasive tumor nuclei. - PR: Positive expression in 80% of invasive tumor nuclei. - Her2/neu antigen (FISH): Non-amplified (1.02). 10. pTNM (AJCC, 7th edition, 2010): pT1cN1MX. Effective. this Checklist utilizes the 7th edition TNM staging. system for breast of the American Joint Committee on Cancer (AJCC) and the. International Union Against Cancer (UICC). Breast Pathologic Parameters (Part B Right Breast). 1. Invasive carcinoma: A. Microscopic measurement: 1.5 cm. B. Composite histologic (modified SBR) grade: II. - Architecture: 3. - Nuclear grade: 2. - Mitotic count: 1. C. Associated intraductal carcinoma in situ (DCIS): - Within main mass (forming 50 % of tumor volume). - Extending away from main mass. 2. Intraductal carcinoma: A. Microscopic measurement: 6.1 cm, spanning over 5 slices, involving lower. inner and upper inner quadrants and extending anteriorly towards nipple. B. Type: Solid. C. Nuclear grade: Intermediate. D. Associated features: Necrosis and cancerization of lobules. 3. Excisional biopsy margins: Positive. - DCIS >3 mm from posterior and inferior (closest) margins. - Invasive carcinoma at inferior-anterior margin with infiltration of. attached skeletal muscle. 4. Blood vessel and lymphatic invasion: Suspicious. 5. Nipple: unremarkable;DCIS noted 5 mm from areolar complex. 6. Skin: uninvolved. 7. Skeletal muscle: Focus attached inferior-anterior infiltrated by carcinoma. 8. Axillary lymph nodes: Negative (Two sentinel nodes, negative for carcinoma. (0/2), see. 9. Special studies (see. - ER: Strong expression in >90% of invasive tumor nuclei. - PR: Strong expression in >90% of invasive tumor nuclei. - Her2/neu antigen (FISH): Non-amplified (1.04). 10. pTNM (AJCC, 7th edition, 2010): pT1cNO(sn)MX (pending review of imaging). Effective. this Checklist utilizes the 7th edition TNM staging. system for breast of the American Joint Committee on Cancer (AJCC) and the. International Union Against Cancer (UICC). Clinical History: The patient is a. 'ear old female with malignant neoplasm of the breast. undergoing left modified radical mastectomy and right simple mastectomy. Comment. B. Stains for CKAE1/AE3 and myosin-heavy chain support extension of invasive. carcinoma into skeletal muscle at the inferior-anterior aspect of the breast. Findings were discussed with. Specimens Received: A: Left modified radicalmastectomy; mastectomy. B: Right simple mastectomy; partial mastectomy. Gross Description: Received are two containers, each labeled with the patient's name and medical. record number. A. Container A is further designated '1. Left modified radicalmastectomy;. mastectomy. The radiographic findings for this breast include an irreglarly. shaped mass measuring 1.4 X 1.2 X 1.9 cm and areas of heterogenous kinetics with. washout. The total extent of the abnormal enhancing is 2.8 X 2.3 X 1.9 cm. Received fresh and placed in formalin is a 468 gram mastectomy specimen. measuring 14.5 cm from medial to lateral, 17.5 cm from superior to inferior and. 3.7 cm from anterior to posterior. It has an axillary tail measuring 11 X 6.5. X. 1.5 cm. The skin measures 13.2 X 5 cm and an nipple areola complex measuring 3 X. 2.7 cm and a nipple measuring 1 X 1 cm. The specimen is inked as follows: posterior black, anterior-superior yellow, anterior-inferior green. It is. sliced into 11 slices to reveal a lesion that is present from slices 6 to 8 and. the lesion measures 1.9 X 1.5 cm and has a medial to lateral dimension of 1.5. cm. It focally abuts the deep margin and is 3 cm from the inferior margin and 9. cm from the superior margin. No other lesions or masses are identified. A. number of lymph node candidates are identified in the axillary tail, the largest. of which measures 2.5 X 2 X 1.8 cm. This large lymph node is sectioned to. reveal a central area of necrosis. Block Summary: A1-A3: lesion from slice 6. A2: superior to lesion. A3: inferior to lesion. A4: lesion in slice 7. A5: lesion in slice 8. A6: slice 5 next to lesion. A7: slice 9 next to lesion. A8: skin and nipple. A9: areola. A10: upper-inner quadrant from slice 2. A11: lower-inner quadrant from slice 4. A12: upper-outer quadrant from slice 7. A13: lower-outer quadrant from slice 7. A14: three lymph node candidates. A15: three lymph node candidates. A16: three lymph node candidates. A17: three lymph node candidates. A18: one lymph node candidate. A19: one lymph node candidate. A20-A21: largest lymph node candidate bisected. A22-A25: additional representative sections of axillary fat. B. Container B is further designated '2. Right simple mastectomy;. partial mastectomy. Received fresh and placed in formalin is a 350 gram. mastectomy specimen measuring 17 cm from medial to lateral, 13.5 from superior. to inferior, and 2.5 cm from anterior to posterior. There is a skin ellipse. measuring3 X 3.5 cm and an areola measuring 2.5 X 2.7 cm and a nipple measuring. 1 x 1 cm. It is sliced into 14 slices in which there is a hematoma cavity. measuring 1.5 X 1.5 x 3.1 cm found in slices 3, 4, 5 and 6. The cavity has a rim. of white-tan, firm tissue around it and the cavity is 1.1 cm from the deep. margin and 0.6 cm from the inferior margin. Also note that the deep margin is. inked red, the anterior-superior margin is inked blue and the anterior-inferior. margin is inked green. No other lesions or masses are identified. Block Summary: B1: lesion in slice 3. B2: superior to B1. B3: lesion in slice 4. B4: superior to B3. B5: lesion in slice 5. B6: superior to B5. B7: lesion in slice 6. B8: superior to B7. B9: slice 7 adjacent to lesion. B10: slice 2 adjacent to lesion. B11: upper-outer quadrant in slice 12. B12: lower-outer quadrant in slice 11. B13: upper-inner quadrant in slice 5. B14: lower-inner quadrant in slice 6. B15: skin and nipple. B16: areola. The specimen is inked as follows: posterior red, anterior-superior blue,. anterior inferior green. The tissue is fixed for at least six hours in NBF and no more than 72 hours.\n",
      "\n",
      "What is your reasoning to support your N stage prediction?\n",
      "\n",
      "What is the N stage from this report? Ignore any substaging information. Please select from the following four options: N0, N1, N2, N3.\n",
      "\n"
     ]
    }
   ],
   "source": [
    "filename = \"TCGA-OL-A5RU.7507AC79-4C8E-4393-92B9-BFA6BEB492D0\"\n",
    "\n",
    "import pandas as pd\n",
    "from metrics import *\n",
    "import json\n",
    "import os\n",
    "\n",
    "n_memory_df = pd.read_csv(\"/home/yl3427/cylab/selfCorrectionAgent/n03_test_8_memory_at_50\")\n",
    "for file_name, report in zip(n_memory_df['patient_filename'], n_memory_df['text']):\n",
    "    if file_name == filename:\n",
    "        print(zs_predict_prompt_n03.format(report=report))\n",
    "        # print(report)\n",
    "        break\n"
   ]
  },
  {
   "cell_type": "markdown",
   "metadata": {},
   "source": [
    "# Dataset for Draft"
   ]
  },
  {
   "cell_type": "code",
   "execution_count": 4,
   "metadata": {},
   "outputs": [
    {
     "data": {
      "text/plain": [
       "{'T3': {'precision': 0.95, 'recall': 0.7, 'f1': 0.81, 'support': 108},\n",
       " 'T2': {'precision': 0.83, 'recall': 0.97, 'f1': 0.9, 'support': 468},\n",
       " 'T1': {'precision': 0.93, 'recall': 0.73, 'f1': 0.82, 'support': 188},\n",
       " 'T4': {'precision': 0.88, 'recall': 0.61, 'f1': 0.72, 'support': 36},\n",
       " 'overall': {'macro_precision': 0.9,\n",
       "  'macro_recall': 0.76,\n",
       "  'macro_f1': 0.81,\n",
       "  'support': 800}}"
      ]
     },
     "execution_count": 4,
     "metadata": {},
     "output_type": "execute_result"
    }
   ],
   "source": [
    "t_df = pd.read_csv(\"/home/yl3427/cylab/selfCorrectionAgent/result/0716/t14_zs_test_800.csv\")\n",
    "t14_calculate_metrics(t_df['t'], t_df['zs_t_ans_str'])"
   ]
  },
  {
   "cell_type": "code",
   "execution_count": 5,
   "metadata": {},
   "outputs": [
    {
     "data": {
      "text/plain": [
       "{'N1': {'precision': 0.86, 'recall': 0.89, 'f1': 0.87, 'support': 300},\n",
       " 'N2': {'precision': 0.67, 'recall': 0.67, 'f1': 0.67, 'support': 110},\n",
       " 'N0': {'precision': 0.95, 'recall': 0.96, 'f1': 0.95, 'support': 316},\n",
       " 'N3': {'precision': 0.98, 'recall': 0.76, 'f1': 0.85, 'support': 74},\n",
       " 'overall': {'macro_precision': 0.86,\n",
       "  'macro_recall': 0.82,\n",
       "  'macro_f1': 0.84,\n",
       "  'support': 800}}"
      ]
     },
     "execution_count": 5,
     "metadata": {},
     "output_type": "execute_result"
    }
   ],
   "source": [
    "n_df = pd.read_csv(\"/home/yl3427/cylab/selfCorrectionAgent/result/0716/n03_zs_test_800.csv\")\n",
    "n03_calculate_metrics(n_df['n'], n_df['zs_n_ans_str'])"
   ]
  }
 ],
 "metadata": {
  "kernelspec": {
   "display_name": "selfCorrection",
   "language": "python",
   "name": "python3"
  },
  "language_info": {
   "codemirror_mode": {
    "name": "ipython",
    "version": 3
   },
   "file_extension": ".py",
   "mimetype": "text/x-python",
   "name": "python",
   "nbconvert_exporter": "python",
   "pygments_lexer": "ipython3",
   "version": "3.9.19"
  }
 },
 "nbformat": 4,
 "nbformat_minor": 2
}
