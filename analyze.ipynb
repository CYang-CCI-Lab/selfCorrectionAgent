{
 "cells": [
  {
   "cell_type": "code",
   "execution_count": 12,
   "metadata": {},
   "outputs": [],
   "source": [
    "import re"
   ]
  },
  {
   "cell_type": "code",
   "execution_count": 13,
   "metadata": {},
   "outputs": [
    {
     "name": "stdout",
     "output_type": "stream",
     "text": [
      "Indices with 'Wrong!': [2, 4, 5, 7, 9, 21, 23, 31, 34, 35, 49, 53, 54, 56, 58, 59, 60, 61, 62, 64, 66, 73, 76, 81, 84, 85, 86, 87, 92, 95, 97, 105, 106, 113, 117, 120, 121, 123, 130, 134, 139, 142, 157, 159, 166, 179, 181, 197, 203, 209, 212, 220, 228, 229, 230, 250, 276, 280, 289, 293, 321, 329, 330, 334, 335, 338, 341, 345, 350, 351, 354, 356, 358, 370, 375, 376, 377, 378, 380, 391, 392, 396, 397, 398, 401, 402, 407, 411, 412, 413, 414, 415, 418, 420, 421, 423, 425, 427, 428, 430, 432, 435, 436, 439, 440, 442, 444, 449, 451, 455, 456, 461, 463, 464, 465, 467, 468, 469, 472, 473, 474, 475, 478, 479, 481, 484, 486, 488, 489, 490, 495, 496, 498, 2, 4, 5, 17, 19, 20, 21, 25, 31, 34, 52, 58, 59, 60, 61, 62, 65, 66, 73, 74, 85, 92, 93, 95, 105, 106, 113, 117, 120, 121, 130, 179, 203, 212, 230, 329, 330, 334, 338, 344, 350, 356, 358, 361, 373, 374, 375, 376, 377, 391, 411, 420, 422, 433, 442, 444, 449, 451, 454, 456, 462, 463, 465, 467, 468, 469, 472, 473, 478, 479, 480, 481, 482, 484, 486, 488, 489, 495, 496, 2, 4, 5, 7, 9, 31, 34, 52, 58, 59, 62, 66, 73, 74, 76, 84, 85, 92, 95, 105, 106, 113, 117, 120, 121, 130, 160, 179, 203, 212, 330, 334, 344, 350, 353, 356, 358, 359, 374, 375, 376, 377, 391, 411, 420, 454, 455, 461, 463, 464, 465, 468, 469, 473, 477, 479, 481, 484, 489, 495, 496]\n"
     ]
    }
   ],
   "source": [
    "def find_wrong_indices(file_path):\n",
    "    with open(file_path, 'r') as file:\n",
    "        log_content = file.read()\n",
    "    matches = re.findall(r'index: (\\d+)[\\s|\\n|\\|]+\\|\\sWrong!', log_content, re.DOTALL)\n",
    "    wrong_indices = [int(match) for match in matches]\n",
    "    return wrong_indices\n",
    "\n",
    "file_path = '/home/yl3427/cylab/selfCorrectionAgent/result_mixtral.log'\n",
    "# '/home/yl3427/cylab/selfCorrectionAgent/result_mixtral.log'\n",
    "# '/home/yl3427/cylab/selfCorrectionAgent/result_llama3.log'\n",
    "\n",
    "wrong_indices = find_wrong_indices(file_path)\n",
    "\n",
    "print(\"Indices with 'Wrong!':\", wrong_indices)\n"
   ]
  },
  {
   "cell_type": "code",
   "execution_count": 14,
   "metadata": {},
   "outputs": [
    {
     "data": {
      "text/plain": [
       "273"
      ]
     },
     "execution_count": 14,
     "metadata": {},
     "output_type": "execute_result"
    }
   ],
   "source": [
    "len(wrong_indices)"
   ]
  },
  {
   "cell_type": "code",
   "execution_count": 15,
   "metadata": {},
   "outputs": [
    {
     "name": "stdout",
     "output_type": "stream",
     "text": [
      "132\n",
      "[498, 2]\n",
      "211\n",
      "[496, 2]\n"
     ]
    }
   ],
   "source": [
    "indices = []\n",
    "for i in range(len(wrong_indices)-1):\n",
    "    if wrong_indices[i] > wrong_indices[i+1]:\n",
    "        print(i)\n",
    "        print(wrong_indices[i: i+2])\n",
    "        indices.append(i)\n"
   ]
  },
  {
   "cell_type": "code",
   "execution_count": 16,
   "metadata": {},
   "outputs": [],
   "source": [
    "idx1 = indices[0]+1\n",
    "idx2 = indices[1]+1\n",
    "base = set(wrong_indices[:idx1])\n",
    "always = set(wrong_indices[idx1:idx2])\n",
    "condition = set(wrong_indices[idx2:])"
   ]
  },
  {
   "cell_type": "code",
   "execution_count": 17,
   "metadata": {},
   "outputs": [
    {
     "data": {
      "text/plain": [
       "133"
      ]
     },
     "execution_count": 17,
     "metadata": {},
     "output_type": "execute_result"
    }
   ],
   "source": [
    "len(base)"
   ]
  },
  {
   "cell_type": "code",
   "execution_count": 18,
   "metadata": {},
   "outputs": [
    {
     "data": {
      "text/plain": [
       "(61,\n",
       " {2,\n",
       "  4,\n",
       "  5,\n",
       "  21,\n",
       "  31,\n",
       "  34,\n",
       "  58,\n",
       "  59,\n",
       "  60,\n",
       "  61,\n",
       "  62,\n",
       "  66,\n",
       "  73,\n",
       "  85,\n",
       "  92,\n",
       "  95,\n",
       "  105,\n",
       "  106,\n",
       "  113,\n",
       "  117,\n",
       "  120,\n",
       "  121,\n",
       "  130,\n",
       "  179,\n",
       "  203,\n",
       "  212,\n",
       "  230,\n",
       "  329,\n",
       "  330,\n",
       "  334,\n",
       "  338,\n",
       "  350,\n",
       "  356,\n",
       "  358,\n",
       "  375,\n",
       "  376,\n",
       "  377,\n",
       "  391,\n",
       "  411,\n",
       "  420,\n",
       "  442,\n",
       "  444,\n",
       "  449,\n",
       "  451,\n",
       "  456,\n",
       "  463,\n",
       "  465,\n",
       "  467,\n",
       "  468,\n",
       "  469,\n",
       "  472,\n",
       "  473,\n",
       "  478,\n",
       "  479,\n",
       "  481,\n",
       "  484,\n",
       "  486,\n",
       "  488,\n",
       "  489,\n",
       "  495,\n",
       "  496})"
      ]
     },
     "execution_count": 18,
     "metadata": {},
     "output_type": "execute_result"
    }
   ],
   "source": [
    "len(base & always), base & always # 49"
   ]
  },
  {
   "cell_type": "code",
   "execution_count": 19,
   "metadata": {},
   "outputs": [
    {
     "data": {
      "text/plain": [
       "(72,\n",
       " {7,\n",
       "  9,\n",
       "  23,\n",
       "  35,\n",
       "  49,\n",
       "  53,\n",
       "  54,\n",
       "  56,\n",
       "  64,\n",
       "  76,\n",
       "  81,\n",
       "  84,\n",
       "  86,\n",
       "  87,\n",
       "  97,\n",
       "  123,\n",
       "  134,\n",
       "  139,\n",
       "  142,\n",
       "  157,\n",
       "  159,\n",
       "  166,\n",
       "  181,\n",
       "  197,\n",
       "  209,\n",
       "  220,\n",
       "  228,\n",
       "  229,\n",
       "  250,\n",
       "  276,\n",
       "  280,\n",
       "  289,\n",
       "  293,\n",
       "  321,\n",
       "  335,\n",
       "  341,\n",
       "  345,\n",
       "  351,\n",
       "  354,\n",
       "  370,\n",
       "  378,\n",
       "  380,\n",
       "  392,\n",
       "  396,\n",
       "  397,\n",
       "  398,\n",
       "  401,\n",
       "  402,\n",
       "  407,\n",
       "  412,\n",
       "  413,\n",
       "  414,\n",
       "  415,\n",
       "  418,\n",
       "  421,\n",
       "  423,\n",
       "  425,\n",
       "  427,\n",
       "  428,\n",
       "  430,\n",
       "  432,\n",
       "  435,\n",
       "  436,\n",
       "  439,\n",
       "  440,\n",
       "  455,\n",
       "  461,\n",
       "  464,\n",
       "  474,\n",
       "  475,\n",
       "  490,\n",
       "  498})"
      ]
     },
     "execution_count": 19,
     "metadata": {},
     "output_type": "execute_result"
    }
   ],
   "source": [
    "len(base - always), base - always "
   ]
  },
  {
   "cell_type": "code",
   "execution_count": 20,
   "metadata": {},
   "outputs": [
    {
     "data": {
      "text/plain": [
       "(18,\n",
       " {17,\n",
       "  19,\n",
       "  20,\n",
       "  25,\n",
       "  52,\n",
       "  65,\n",
       "  74,\n",
       "  93,\n",
       "  344,\n",
       "  361,\n",
       "  373,\n",
       "  374,\n",
       "  422,\n",
       "  433,\n",
       "  454,\n",
       "  462,\n",
       "  480,\n",
       "  482})"
      ]
     },
     "execution_count": 20,
     "metadata": {},
     "output_type": "execute_result"
    }
   ],
   "source": [
    "len(always - base),always - base # 15"
   ]
  },
  {
   "cell_type": "code",
   "execution_count": null,
   "metadata": {},
   "outputs": [],
   "source": []
  },
  {
   "cell_type": "code",
   "execution_count": 21,
   "metadata": {},
   "outputs": [
    {
     "data": {
      "text/html": [
       "<div>\n",
       "<style scoped>\n",
       "    .dataframe tbody tr th:only-of-type {\n",
       "        vertical-align: middle;\n",
       "    }\n",
       "\n",
       "    .dataframe tbody tr th {\n",
       "        vertical-align: top;\n",
       "    }\n",
       "\n",
       "    .dataframe thead th {\n",
       "        text-align: right;\n",
       "    }\n",
       "</style>\n",
       "<table border=\"1\" class=\"dataframe\">\n",
       "  <thead>\n",
       "    <tr style=\"text-align: right;\">\n",
       "      <th></th>\n",
       "      <th>Unnamed: 0</th>\n",
       "      <th>patient_filename</th>\n",
       "      <th>t</th>\n",
       "      <th>text</th>\n",
       "      <th>type</th>\n",
       "      <th>n</th>\n",
       "    </tr>\n",
       "  </thead>\n",
       "  <tbody>\n",
       "    <tr>\n",
       "      <th>0</th>\n",
       "      <td>46</td>\n",
       "      <td>TCGA-3C-AALI.84E6A935-1A49-4BC1-9669-3DEA161CF6FC</td>\n",
       "      <td>1</td>\n",
       "      <td>Path No.: Date Obtained: (Age: ). Date Receive...</td>\n",
       "      <td>BRCA</td>\n",
       "      <td>1</td>\n",
       "    </tr>\n",
       "    <tr>\n",
       "      <th>1</th>\n",
       "      <td>47</td>\n",
       "      <td>TCGA-3C-AALJ.265E5A9A-64FD-4B86-89BC-5E89F253C118</td>\n",
       "      <td>1</td>\n",
       "      <td>Path No.: Date Obtained: (Age: ). Date Receive...</td>\n",
       "      <td>BRCA</td>\n",
       "      <td>1</td>\n",
       "    </tr>\n",
       "    <tr>\n",
       "      <th>2</th>\n",
       "      <td>48</td>\n",
       "      <td>TCGA-3C-AALK.F43B01E6-E1DB-44B1-8003-93870606346A</td>\n",
       "      <td>0</td>\n",
       "      <td>Path No.: Date Obtained: (Age: ). Date Receive...</td>\n",
       "      <td>BRCA</td>\n",
       "      <td>-1</td>\n",
       "    </tr>\n",
       "    <tr>\n",
       "      <th>3</th>\n",
       "      <td>127</td>\n",
       "      <td>TCGA-4H-AAAK.8894688F-7167-48A1-BB1B-FC219B7675C2</td>\n",
       "      <td>1</td>\n",
       "      <td>Procedure: Left radical mastectomy. Preoperati...</td>\n",
       "      <td>BRCA</td>\n",
       "      <td>2</td>\n",
       "    </tr>\n",
       "    <tr>\n",
       "      <th>4</th>\n",
       "      <td>245</td>\n",
       "      <td>TCGA-5L-AAT0.F9B6971F-23C0-465F-BFEC-778BF228A1AE</td>\n",
       "      <td>1</td>\n",
       "      <td>Gender: Female. Color: White. Origin: Nature o...</td>\n",
       "      <td>BRCA</td>\n",
       "      <td>0</td>\n",
       "    </tr>\n",
       "    <tr>\n",
       "      <th>...</th>\n",
       "      <td>...</td>\n",
       "      <td>...</td>\n",
       "      <td>...</td>\n",
       "      <td>...</td>\n",
       "      <td>...</td>\n",
       "      <td>...</td>\n",
       "    </tr>\n",
       "    <tr>\n",
       "      <th>495</th>\n",
       "      <td>940</td>\n",
       "      <td>TCGA-B6-A0WX.EE5BB205-D59B-4FEF-8D8F-D5720EDEB075</td>\n",
       "      <td>2</td>\n",
       "      <td>Pat. Surgical Pathoro. 1. CLINICAL HISTORY : L...</td>\n",
       "      <td>BRCA</td>\n",
       "      <td>1</td>\n",
       "    </tr>\n",
       "    <tr>\n",
       "      <th>496</th>\n",
       "      <td>941</td>\n",
       "      <td>TCGA-B6-A0WY.C0E92852-4146-468C-9713-2DE9C3316B9F</td>\n",
       "      <td>2</td>\n",
       "      <td>surgical Pathology;. CLINICAL HISTORY: Breast ...</td>\n",
       "      <td>BRCA</td>\n",
       "      <td>1</td>\n",
       "    </tr>\n",
       "    <tr>\n",
       "      <th>497</th>\n",
       "      <td>942</td>\n",
       "      <td>TCGA-B6-A0WZ.B5B7CCDD-1ED2-437A-BDF0-684AF474A8A6</td>\n",
       "      <td>1</td>\n",
       "      <td>urgical Pathology. CLINICAL HISTORY: Right bre...</td>\n",
       "      <td>BRCA</td>\n",
       "      <td>1</td>\n",
       "    </tr>\n",
       "    <tr>\n",
       "      <th>498</th>\n",
       "      <td>943</td>\n",
       "      <td>TCGA-B6-A0X1.D792031E-2CCE-4341-B3B3-C7D1D84F8F6B</td>\n",
       "      <td>1</td>\n",
       "      <td>furgical Path. CLINICAL HISTORY: Large primary...</td>\n",
       "      <td>BRCA</td>\n",
       "      <td>1</td>\n",
       "    </tr>\n",
       "    <tr>\n",
       "      <th>499</th>\n",
       "      <td>944</td>\n",
       "      <td>TCGA-B6-A0X4.CA935E8D-ED8A-4485-BDC6-02C07CCE2EA5</td>\n",
       "      <td>1</td>\n",
       "      <td>age &amp; :-. urgical Pathology: CLINICAL HISTORY:...</td>\n",
       "      <td>BRCA</td>\n",
       "      <td>1</td>\n",
       "    </tr>\n",
       "  </tbody>\n",
       "</table>\n",
       "<p>500 rows × 6 columns</p>\n",
       "</div>"
      ],
      "text/plain": [
       "     Unnamed: 0                                   patient_filename  t  \\\n",
       "0            46  TCGA-3C-AALI.84E6A935-1A49-4BC1-9669-3DEA161CF6FC  1   \n",
       "1            47  TCGA-3C-AALJ.265E5A9A-64FD-4B86-89BC-5E89F253C118  1   \n",
       "2            48  TCGA-3C-AALK.F43B01E6-E1DB-44B1-8003-93870606346A  0   \n",
       "3           127  TCGA-4H-AAAK.8894688F-7167-48A1-BB1B-FC219B7675C2  1   \n",
       "4           245  TCGA-5L-AAT0.F9B6971F-23C0-465F-BFEC-778BF228A1AE  1   \n",
       "..          ...                                                ... ..   \n",
       "495         940  TCGA-B6-A0WX.EE5BB205-D59B-4FEF-8D8F-D5720EDEB075  2   \n",
       "496         941  TCGA-B6-A0WY.C0E92852-4146-468C-9713-2DE9C3316B9F  2   \n",
       "497         942  TCGA-B6-A0WZ.B5B7CCDD-1ED2-437A-BDF0-684AF474A8A6  1   \n",
       "498         943  TCGA-B6-A0X1.D792031E-2CCE-4341-B3B3-C7D1D84F8F6B  1   \n",
       "499         944  TCGA-B6-A0X4.CA935E8D-ED8A-4485-BDC6-02C07CCE2EA5  1   \n",
       "\n",
       "                                                  text  type  n  \n",
       "0    Path No.: Date Obtained: (Age: ). Date Receive...  BRCA  1  \n",
       "1    Path No.: Date Obtained: (Age: ). Date Receive...  BRCA  1  \n",
       "2    Path No.: Date Obtained: (Age: ). Date Receive...  BRCA -1  \n",
       "3    Procedure: Left radical mastectomy. Preoperati...  BRCA  2  \n",
       "4    Gender: Female. Color: White. Origin: Nature o...  BRCA  0  \n",
       "..                                                 ...   ... ..  \n",
       "495  Pat. Surgical Pathoro. 1. CLINICAL HISTORY : L...  BRCA  1  \n",
       "496  surgical Pathology;. CLINICAL HISTORY: Breast ...  BRCA  1  \n",
       "497  urgical Pathology. CLINICAL HISTORY: Right bre...  BRCA  1  \n",
       "498  furgical Path. CLINICAL HISTORY: Large primary...  BRCA  1  \n",
       "499  age & :-. urgical Pathology: CLINICAL HISTORY:...  BRCA  1  \n",
       "\n",
       "[500 rows x 6 columns]"
      ]
     },
     "execution_count": 21,
     "metadata": {},
     "output_type": "execute_result"
    }
   ],
   "source": [
    "import pandas as pd\n",
    "\n",
    "brca_report = pd.read_csv(\"/secure/shared_data/rag_tnm_results/summary/5_folds_summary/brca_df.csv\")\n",
    "sample_reports = brca_report.iloc[:500, :]\n",
    "\n",
    "sample_reports"
   ]
  },
  {
   "cell_type": "code",
   "execution_count": 24,
   "metadata": {},
   "outputs": [
    {
     "name": "stdout",
     "output_type": "stream",
     "text": [
      "T1\n",
      "T2\n",
      "T2\n",
      "T2\n",
      "T2\n",
      "T2\n",
      "T2\n",
      "T2\n",
      "T2\n",
      "T2\n",
      "T2\n",
      "T2\n",
      "T1\n",
      "T1\n",
      "T3\n",
      "T2\n",
      "T2\n",
      "T2\n"
     ]
    }
   ],
   "source": [
    "for i in sorted(always - base):\n",
    "    print(f\"T{sample_reports.iloc[i].t+1}\")"
   ]
  },
  {
   "cell_type": "code",
   "execution_count": 5,
   "metadata": {},
   "outputs": [
    {
     "name": "stdout",
     "output_type": "stream",
     "text": [
      "[0, 85, 51, 82, 95, 93, 94, 94, 94, 92, 97, 97, 95, 94, 98, 85, 98, 84, 97, 98, 97, 97, 98, 97, 96, 100, 100, 100, 97, 97, 99, 99, 99, 99, 99, 100, 99, 98, 99, 100, 100, 98, 100, 98, 100, 100, 98, 100, 93, 99, 99, 99, 99, 99, 100, 99, 99, 100, 97, 100, 100, 100, 100, 100, 100, 100, 100, 100, 100, 100, 100, 100, 100, 100, 100, 100, 100, 100, 100, 100, 100, 100, 100, 100, 100, 100, 100, 100, 100, 100, 100, 100, 100, 100, 100, 100, 100, 100, 100, 100, 100, 100, 100, 100, 100, 100, 100, 100, 100, 100, 100, 100, 100, 100, 100, 100, 100, 100, 100, 100, 100, 100, 100, 100, 100, 100, 100, 100, 100, 98, 100, 100, 100, 98, 100, 100, 100, 98, 100, 100, 100, 100, 100, 98, 100, 100, 100, 100, 100, 100, 100, 100, 100, 100, 100, 100, 100, 100, 100, 100, 100, 100, 100, 100, 84, 99, 99, 100, 100, 100, 100, 100, 100, 99, 99, 100, 100, 100, 100, 100, 100, 98, 100, 98, 100, 100, 100, 100, 100, 100, 100, 100, 100, 100, 98, 98, 98, 98, 100, 100, 100, 100, 100, 28, 94, 96, 97, 97, 96, 98, 96, 98, 97, 98, 97, 98, 98, 98, 24, 97, 75, 98, 98, 97, 98, 97, 97, 98, 96, 98, 98, 98, 98, 98, 98, 98, 98, 97, 97, 98, 98, 98, 99, 99, 100, 100, 100, 100, 65, 97, 98, 98, 98, 98, 100, 98, 98, 100, 97, 100, 98, 97, 98, 100, 98, 100, 100, 99, 100, 100, 99, 95, 100, 98, 99, 100, 100, 100, 100, 100, 100, 100, 100, 100, 100, 100, 99, 100, 100, 100, 98, 100, 100, 100, 98, 97, 99, 100, 100, 100, 100, 100, 100, 100, 100, 100, 100, 100, 100, 100, 100, 100, 100, 100, 100, 100, 100, 100, 100, 100, 100, 100, 100, 100, 100, 100, 100, 100, 100, 100, 100, 100, 100, 100, 100, 2, 91, 93, 94, 94, 91, 97, 96, 95, 96, 96, 97, 96, 98, 98, 94, 95, 97, 96, 98, 98, 99, 98, 99, 100, 100, 96, 100, 100, 100, 100, 100, 100, 100, 100, 100, 100, 100, 100, 100, 100, 100, 100, 100, 100, 100, 100, 100, 100, 100, 100, 100, 100, 100, 100, 100, 100, 100, 100, 100, 100, 100, 100, 100, 100, 100, 100, 100, 100, 100, 100, 100, 100, 100, 99, 100, 100, 100, 99, 100, 100, 100, 100, 100, 100, 99, 100, 100, 100, 100, 100, 100, 100, 100, 100, 100, 100, 100, 100, 100, 100, 100, 100, 100, 100, 100, 100, 100, 100, 100, 100, 100, 100, 100, 100, 100, 100, 100, 100, 100, 100, 85, 99, 98, 98, 100, 100, 7, 5, 95, 94, 97, 89, 97, 95, 96, 96, 97, 98, 95, 96, 96, 96, 98, 94, 98, 97, 98, 98, 100, 98, 97, 100, 100, 100, 100, 100, 100, 100, 100, 100, 100, 100, 100, 100]\n"
     ]
    }
   ],
   "source": [
    "def find_similarity(file_path):\n",
    "    with open(file_path, 'r') as file:\n",
    "        log_content = file.read()\n",
    "    matches = re.findall(r'similarity: (\\d+)', log_content, re.DOTALL)\n",
    "    scores = [int(match) for match in matches]\n",
    "    return scores\n",
    "\n",
    "file_path = '/home/yl3427/cylab/selfCorrectionAgent/result_llama3.log'\n",
    "\n",
    "# '/home/yl3427/cylab/selfCorrectionAgent/result_mixtral.log'\n",
    "# '/home/yl3427/cylab/selfCorrectionAgent/result_llama3.log'\n",
    "\n",
    "similarity_scores = find_similarity(file_path)\n",
    "\n",
    "print(similarity_scores)\n"
   ]
  },
  {
   "cell_type": "code",
   "execution_count": 53,
   "metadata": {},
   "outputs": [
    {
     "data": {
      "text/plain": [
       "500"
      ]
     },
     "execution_count": 53,
     "metadata": {},
     "output_type": "execute_result"
    }
   ],
   "source": [
    "len(similarity_scores)"
   ]
  },
  {
   "cell_type": "code",
   "execution_count": 10,
   "metadata": {},
   "outputs": [
    {
     "name": "stderr",
     "output_type": "stream",
     "text": [
      "/tmp/ipykernel_1205895/1139927438.py:14: UserWarning: No artists with labels found to put in legend.  Note that artists whose label start with an underscore are ignored when legend() is called with no argument.\n",
      "  plt.legend()\n"
     ]
    },
    {
     "data": {
      "image/png": "[encoded data removed]",
      "text/plain": [
       "<Figure size 1000x500 with 1 Axes>"
      ]
     },
     "metadata": {},
     "output_type": "display_data"
    }
   ],
   "source": [
    "import matplotlib.pyplot as plt\n",
    "import numpy as np\n",
    "\n",
    "index = range(0, 500)\n",
    "\n",
    "\n",
    "# Plotting\n",
    "plt.figure(figsize=(10, 5))\n",
    "plt.plot(index, similarity_scores)\n",
    "plt.xlabel('index of report')\n",
    "plt.ylabel('similiarity between created rules and the existing rules (memory)')\n",
    "plt.xlim(0, 500)\n",
    "plt.xticks(np.arange(0, 501, 25))  # Adjust the interval as needed\n",
    "plt.legend()\n",
    "plt.show()\n"
   ]
  },
  {
   "cell_type": "code",
   "execution_count": 12,
   "metadata": {},
   "outputs": [
    {
     "name": "stderr",
     "output_type": "stream",
     "text": [
      "/tmp/ipykernel_1205895/1679797493.py:14: UserWarning: No artists with labels found to put in legend.  Note that artists whose label start with an underscore are ignored when legend() is called with no argument.\n",
      "  plt.legend()\n"
     ]
    },
    {
     "data": {
      "image/png": "[encoded data removed]",
      "text/plain": [
       "<Figure size 1000x500 with 1 Axes>"
      ]
     },
     "metadata": {},
     "output_type": "display_data"
    }
   ],
   "source": [
    "import matplotlib.pyplot as plt\n",
    "import numpy as np\n",
    "\n",
    "index = range(0, 80)\n",
    "\n",
    "\n",
    "# Plotting\n",
    "plt.figure(figsize=(10, 5))\n",
    "plt.plot(index, similarity_scores[:80])\n",
    "plt.xlabel('index of report')\n",
    "plt.ylabel('similiarity between created rules and the existing rules (memory)')\n",
    "plt.xlim(0, 80)\n",
    "plt.xticks(np.arange(0, 80, 5))  # Adjust the interval as needed\n",
    "plt.legend()\n",
    "plt.show()\n"
   ]
  },
  {
   "cell_type": "code",
   "execution_count": null,
   "metadata": {},
   "outputs": [],
   "source": []
  }
 ],
 "metadata": {
  "kernelspec": {
   "display_name": "selfCorrection",
   "language": "python",
   "name": "python3"
  },
  "language_info": {
   "codemirror_mode": {
    "name": "ipython",
    "version": 3
   },
   "file_extension": ".py",
   "mimetype": "text/x-python",
   "name": "python",
   "nbconvert_exporter": "python",
   "pygments_lexer": "ipython3",
   "version": "3.9.19"
  }
 },
 "nbformat": 4,
 "nbformat_minor": 2
}
