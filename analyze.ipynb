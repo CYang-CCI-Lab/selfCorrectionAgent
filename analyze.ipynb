{
 "cells": [
  {
   "cell_type": "code",
   "execution_count": null,
   "metadata": {},
   "outputs": [],
   "source": [
    "import re"
   ]
  },
  {
   "cell_type": "code",
   "execution_count": null,
   "metadata": {},
   "outputs": [],
   "source": [
    "def find_wrong_indices(file_path):\n",
    "    with open(file_path, 'r') as file:\n",
    "        log_content = file.read()\n",
    "    matches = re.findall(r'index: (\\d+)[\\s|\\n|\\|]+\\|\\sWrong!', log_content, re.DOTALL)\n",
    "    wrong_indices = [int(match) for match in matches]\n",
    "    return wrong_indices\n",
    "\n",
    "file_path = '/home/yl3427/cylab/selfCorrectionAgent/result_mixtral.log'\n",
    "# '/home/yl3427/cylab/selfCorrectionAgent/result_mixtral.log'\n",
    "# '/home/yl3427/cylab/selfCorrectionAgent/result_llama3.log'\n",
    "\n",
    "wrong_indices = find_wrong_indices(file_path)\n",
    "\n",
    "print(\"Indices with 'Wrong!':\", wrong_indices)\n"
   ]
  },
  {
   "cell_type": "code",
   "execution_count": null,
   "metadata": {},
   "outputs": [],
   "source": [
    "len(wrong_indices)"
   ]
  },
  {
   "cell_type": "code",
   "execution_count": null,
   "metadata": {},
   "outputs": [],
   "source": [
    "indices = []\n",
    "for i in range(len(wrong_indices)-1):\n",
    "    if wrong_indices[i] > wrong_indices[i+1]:\n",
    "        print(i)\n",
    "        print(wrong_indices[i: i+2])\n",
    "        indices.append(i)\n"
   ]
  },
  {
   "cell_type": "code",
   "execution_count": null,
   "metadata": {},
   "outputs": [],
   "source": [
    "idx1 = indices[0]+1\n",
    "idx2 = indices[1]+1\n",
    "base = set(wrong_indices[:idx1])\n",
    "always = set(wrong_indices[idx1:idx2])\n",
    "condition = set(wrong_indices[idx2:])"
   ]
  },
  {
   "cell_type": "code",
   "execution_count": null,
   "metadata": {},
   "outputs": [],
   "source": [
    "len(base)"
   ]
  },
  {
   "cell_type": "code",
   "execution_count": null,
   "metadata": {},
   "outputs": [],
   "source": [
    "len(base & always), base & always # 49"
   ]
  },
  {
   "cell_type": "code",
   "execution_count": null,
   "metadata": {},
   "outputs": [],
   "source": [
    "len(base - always), base - always "
   ]
  },
  {
   "cell_type": "code",
   "execution_count": null,
   "metadata": {},
   "outputs": [],
   "source": [
    "len(always - base),always - base # 15"
   ]
  },
  {
   "cell_type": "code",
   "execution_count": null,
   "metadata": {},
   "outputs": [],
   "source": []
  },
  {
   "cell_type": "code",
   "execution_count": null,
   "metadata": {},
   "outputs": [],
   "source": [
    "import pandas as pd\n",
    "\n",
    "brca_report = pd.read_csv(\"/secure/shared_data/rag_tnm_results/summary/5_folds_summary/brca_df.csv\")\n",
    "sample_reports = brca_report.iloc[:500, :]\n",
    "\n",
    "sample_reports"
   ]
  },
  {
   "cell_type": "code",
   "execution_count": null,
   "metadata": {},
   "outputs": [],
   "source": [
    "for i in sorted(always - base):\n",
    "    print(f\"T{sample_reports.iloc[i].t+1}\")"
   ]
  },
  {
   "cell_type": "code",
   "execution_count": null,
   "metadata": {},
   "outputs": [],
   "source": [
    "def find_similarity(file_path):\n",
    "    with open(file_path, 'r') as file:\n",
    "        log_content = file.read()\n",
    "    matches = re.findall(r'similarity: (\\d+)', log_content, re.DOTALL)\n",
    "    scores = [int(match) for match in matches]\n",
    "    return scores\n",
    "\n",
    "file_path = '/home/yl3427/cylab/selfCorrectionAgent/result_llama3.log'\n",
    "\n",
    "# '/home/yl3427/cylab/selfCorrectionAgent/result_mixtral.log'\n",
    "# '/home/yl3427/cylab/selfCorrectionAgent/result_llama3.log'\n",
    "\n",
    "similarity_scores = find_similarity(file_path)\n",
    "\n",
    "print(similarity_scores)\n"
   ]
  },
  {
   "cell_type": "code",
   "execution_count": null,
   "metadata": {},
   "outputs": [],
   "source": [
    "len(similarity_scores)"
   ]
  },
  {
   "cell_type": "code",
   "execution_count": null,
   "metadata": {},
   "outputs": [],
   "source": [
    "import matplotlib.pyplot as plt\n",
    "import numpy as np\n",
    "\n",
    "index = range(0, 500)\n",
    "\n",
    "\n",
    "# Plotting\n",
    "plt.figure(figsize=(10, 5))\n",
    "plt.plot(index, similarity_scores)\n",
    "plt.xlabel('index of report')\n",
    "plt.ylabel('similiarity between created rules and the existing rules (memory)')\n",
    "plt.xlim(0, 500)\n",
    "plt.xticks(np.arange(0, 501, 25))  # Adjust the interval as needed\n",
    "plt.legend()\n",
    "plt.show()\n"
   ]
  },
  {
   "cell_type": "code",
   "execution_count": null,
   "metadata": {},
   "outputs": [],
   "source": [
    "import matplotlib.pyplot as plt\n",
    "import numpy as np\n",
    "\n",
    "index = range(0, 80)\n",
    "\n",
    "\n",
    "# Plotting\n",
    "plt.figure(figsize=(10, 5))\n",
    "plt.plot(index, similarity_scores[:80])\n",
    "plt.xlabel('index of report')\n",
    "plt.ylabel('similiarity between created rules and the existing rules (memory)')\n",
    "plt.xlim(0, 80)\n",
    "plt.xticks(np.arange(0, 80, 5))  # Adjust the interval as needed\n",
    "plt.legend()\n",
    "plt.show()\n"
   ]
  },
  {
   "cell_type": "code",
   "execution_count": null,
   "metadata": {},
   "outputs": [],
   "source": [
    "import ast"
   ]
  },
  {
   "cell_type": "code",
   "execution_count": null,
   "metadata": {},
   "outputs": [],
   "source": [
    "def find_memory(file_path):\n",
    "    with open(file_path, 'r') as file:\n",
    "        log_content = file.read()\n",
    "    matches = re.findall(r\" memory: (\\[.*?\\])\", log_content, re.DOTALL)\n",
    "    wrong_indices = [ast.literal_eval(match) for match in matches]\n",
    "    return wrong_indices\n",
    "\n",
    "file_path = '/home/yl3427/cylab/selfCorrectionAgent/memory.txt'\n",
    "\n",
    "\n",
    "wrong_indices = find_memory(file_path)\n",
    "\n",
    "print(len(wrong_indices))\n",
    "print(wrong_indices)"
   ]
  },
  {
   "cell_type": "code",
   "execution_count": null,
   "metadata": {},
   "outputs": [],
   "source": [
    "import pandas as pd\n",
    "import re\n",
    "from src.metrics import t14_performance_report, n03_performance_report, relax_t14_performance_report, relax_n03_performance_report"
   ]
  },
  {
   "cell_type": "code",
   "execution_count": null,
   "metadata": {},
   "outputs": [],
   "source": [
    "print(\"zshot\")\n",
    "memory_df = pd.read_csv(\"result/t14/brca_df_zs_t14.csv\")\n",
    "t14_performance_report(memory_df, \"zs_t_ans_str\")\n",
    "print()\n",
    "\n",
    "for size in range(10, 101, 5):\n",
    "    print(f\"conditional memory, test size: {size}\")\n",
    "    memory_df = pd.read_csv(f\"/home/yl3427/cylab/selfCorrectionAgent/result/n03/saturation_test_result_{size}.csv\")\n",
    "    n03_performance_report(memory_df, \"cmem_n_ans_str\")\n",
    "    relax_n03_performance_report(memory_df, \"cmem_n_ans_str\")\n",
    "    print()"
   ]
  },
  {
   "cell_type": "code",
   "execution_count": null,
   "metadata": {},
   "outputs": [],
   "source": [
    "print(\"train size: 80\")\n",
    "print()\n",
    "for fold in range(5):\n",
    "    print(f\" {fold} fold\")\n",
    "    memory_df = pd.read_csv(f\"/home/yl3427/cylab/selfCorrectionAgent/result/n03/{fold}_fold_saturation_test_result_80.csv\")\n",
    "    n03_performance_report(memory_df, \"cmem_n_ans_str\")\n",
    "    # relax_n03_performance_report(df, \"cmem_n_ans_str\")\n",
    "    print()"
   ]
  },
  {
   "cell_type": "code",
   "execution_count": null,
   "metadata": {},
   "outputs": [],
   "source": [
    "# /home/yl3427/cylab/selfCorrectionAgent/result/n03/saturation_test_result_80.csv\n",
    "memory_df = pd.read_csv(\"/home/yl3427/cylab/selfCorrectionAgent/result/t14/memory_test_result_80.csv\")\n",
    "t14_performance_report(memory_df, \"mem_t_ans_str\")\n",
    "# relax_n03_performance_report(df, \"mem_n_ans_str\")"
   ]
  },
  {
   "cell_type": "code",
   "execution_count": null,
   "metadata": {},
   "outputs": [],
   "source": [
    "memory_df = pd.read_csv(\"/home/yl3427/cylab/selfCorrectionAgent/result/n03/memory_test_result_80.csv\")\n",
    "n03_performance_report(memory_df, \"mem_n_ans_str\")"
   ]
  },
  {
   "cell_type": "code",
   "execution_count": null,
   "metadata": {},
   "outputs": [],
   "source": []
  },
  {
   "cell_type": "code",
   "execution_count": null,
   "metadata": {},
   "outputs": [],
   "source": []
  },
  {
   "cell_type": "code",
   "execution_count": null,
   "metadata": {},
   "outputs": [],
   "source": [
    "import pandas as pd\n",
    "import matplotlib.pyplot as plt\n",
    "import os\n",
    "\n",
    "for idx in range(10):\n",
    "    plt.figure(figsize=(20, 10))\n",
    "    file_path =  f\"/home/yl3427/cylab/selfCorrectionAgent/result/t14_train_{idx}.csv\"\n",
    "    data = pd.read_csv(file_path)\n",
    "    data['cmem_t_edit_distance'] = pd.to_numeric(data['cmem_t_edit_distance'])\n",
    "    plt.plot(data.index, data['cmem_t_edit_distance'], label=idx)\n",
    "    \n",
    "    plt.xlabel('Number of Reports')\n",
    "    plt.ylabel('Edit Distance')\n",
    "    plt.title(f'Changes in Edit Distance for the Number of Reports - {idx}')\n",
    "    plt.legend()\n",
    "    plt.grid(True)\n",
    "    plt.show()\n"
   ]
  },
  {
   "cell_type": "code",
   "execution_count": null,
   "metadata": {},
   "outputs": [],
   "source": [
    "import pandas as pd\n",
    "import matplotlib.pyplot as plt\n",
    "import os\n",
    "\n",
    "plt.figure(figsize=(40, 20))\n",
    "\n",
    "for idx in range(10):\n",
    "\n",
    "    file_path =  f\"/home/yl3427/cylab/selfCorrectionAgent/result/t14_train_{idx}.csv\"\n",
    "    data = pd.read_csv(file_path)\n",
    "    data['cmem_t_edit_distance'] = pd.to_numeric(data['cmem_t_edit_distance'])\n",
    "    plt.plot(data.index, data['cmem_t_edit_distance'], label=idx)\n",
    "    \n",
    "plt.xlabel('Number of Reports')\n",
    "plt.ylabel('Edit Distance')\n",
    "plt.title('Changes in Edit Distance for the Number of Reports')\n",
    "plt.legend()\n",
    "plt.grid(True)\n",
    "\n",
    "plt.savefig('combined_plot.png')\n",
    "plt.show()\n"
   ]
  },
  {
   "cell_type": "code",
   "execution_count": null,
   "metadata": {},
   "outputs": [],
   "source": [
    "data_frames = []\n",
    "\n",
    "for idx in range(10):\n",
    "    file_path =  f\"/home/yl3427/cylab/selfCorrectionAgent/result/t14_train_{idx}.csv\"\n",
    "    data = pd.read_csv(file_path)\n",
    "    data['cmem_t_edit_distance'] = pd.to_numeric(data['cmem_t_edit_distance'])\n",
    "    data_frames.append(data['cmem_t_edit_distance'])\n",
    "\n",
    "combined_data = pd.concat(data_frames, axis=1)\n",
    "average_data = combined_data.mean(axis=1)\n",
    "\n",
    "plt.figure(figsize=(15, 10))\n",
    "plt.plot(average_data, label='Average Edit Distance', color='blue')\n",
    "\n",
    "plt.xlabel('Number of Reports')\n",
    "plt.ylabel('Edit Distance')\n",
    "plt.title('Average Changes in Edit Distance for the Number of Reports')\n",
    "plt.legend()\n",
    "plt.grid(True)\n",
    "\n",
    "# Save the plot\n",
    "plt.savefig('average_edit_distance_plot.png')\n",
    "plt.show()"
   ]
  },
  {
   "cell_type": "code",
   "execution_count": null,
   "metadata": {},
   "outputs": [],
   "source": []
  },
  {
   "cell_type": "code",
   "execution_count": null,
   "metadata": {},
   "outputs": [],
   "source": [
    "from src.metrics import t14_performance_report, n03_performance_report, relax_t14_performance_report, relax_n03_performance_report\n",
    "import numpy as np\n",
    "import pandas as pd\n",
    "\n",
    "results = []\n",
    "for idx in range(10):\n",
    "    memory_df = pd.read_csv(f\"/home/yl3427/cylab/selfCorrectionAgent/result/t14_test_{idx}.csv\")\n",
    "    print(f\"t14_test_{idx}\")\n",
    "    result = t14_performance_report(memory_df, f\"cmem_t_ans_str\")\n",
    "    results.append(result)\n",
    "    print()\n",
    "\n",
    "results = np.array(results)\n",
    "ci_lower = np.percentile(results, 2.5, axis=0)\n",
    "ci_upper = np.percentile(results, 97.5, axis=0)\n",
    "\n",
    "print(\"Precision:\", np.mean(results[:, 0]), \"(CI:\", ci_lower[0], ci_upper[0], \")\")\n",
    "print(\"Recall:\", np.mean(results[:, 1]), \"(CI:\", ci_lower[1], ci_upper[1], \")\")\n",
    "print(\"F1:\", np.mean(results[:, 2]), \"(CI:\", ci_lower[2], ci_upper[2], \")\")"
   ]
  },
  {
   "cell_type": "code",
   "execution_count": null,
   "metadata": {},
   "outputs": [],
   "source": [
    "results = []\n",
    "for idx in range(10):\n",
    "    memory_df = pd.read_csv(f\"/home/yl3427/cylab/selfCorrectionAgent/result/n03_test_{idx}.csv\")\n",
    "    print(f\"n03_test_{idx}\")\n",
    "    result = n03_performance_report(memory_df, f\"cmem_n_ans_str\")\n",
    "    results.append(result)\n",
    "    print()\n",
    "\n",
    "results = np.array(results)\n",
    "ci_lower = np.percentile(results, 2.5, axis=0)\n",
    "ci_upper = np.percentile(results, 97.5, axis=0)\n",
    "\n",
    "print(\"Precision:\", np.mean(results[:, 0]), \"(CI:\", ci_lower[0], ci_upper[0], \")\")\n",
    "print(\"Recall:\", np.mean(results[:, 1]), \"(CI:\", ci_lower[1], ci_upper[1], \")\")\n",
    "print(\"F1:\", np.mean(results[:, 2]), \"(CI:\", ci_lower[2], ci_upper[2], \")\")"
   ]
  },
  {
   "cell_type": "code",
   "execution_count": null,
   "metadata": {},
   "outputs": [],
   "source": [
    "import matplotlib.pyplot as plt"
   ]
  },
  {
   "cell_type": "code",
   "execution_count": null,
   "metadata": {},
   "outputs": [],
   "source": [
    "file_path =  f\"/home/yl3427/cylab/selfCorrectionAgent/t14_train_rules_0.csv\"\n",
    "data = pd.read_csv(file_path).dropna(subset=['cmem_t_edit_distance'])\n",
    "\n",
    "data['cmem_t_edit_distance'] = pd.to_numeric(data['cmem_t_edit_distance'])\n",
    "\n",
    "data['percentage_change'] = data['cmem_t_edit_distance'].pct_change() * 100\n",
    "\n",
    "significant_drops = data[data['percentage_change'] <= -50]\n",
    "\n",
    "\n",
    "plt.figure(figsize=(10, 6))\n",
    "plt.plot(data.index, data['cmem_t_edit_distance'], linestyle='-')\n",
    "plt.scatter(significant_drops.index, significant_drops['cmem_t_edit_distance'], marker='o', color='red', label='Significant Drop (>50%)')\n",
    "for idx in significant_drops.index:\n",
    "    plt.annotate(f\"({idx},{data.loc[idx, 'cmem_t_edit_distance']})\", (idx, data.loc[idx, 'cmem_t_edit_distance']),\n",
    "                 textcoords=\"offset points\", xytext=(0,5), ha='center', color='red')\n",
    "\n",
    "plt.title('cmem_t_edit_distance over Reports Index')\n",
    "plt.xlabel('Index')\n",
    "plt.ylabel('cmem_t_edit_distance')\n",
    "plt.legend()\n",
    "plt.grid(True)\n",
    "plt.show()"
   ]
  },
  {
   "cell_type": "code",
   "execution_count": null,
   "metadata": {},
   "outputs": [],
   "source": [
    "import pandas as pd\n",
    "import matplotlib.pyplot as plt\n",
    "from adjustText import adjust_text\n",
    "\n",
    "file_path = \"/home/yl3427/cylab/selfCorrectionAgent/t14_train_rules_0.csv\"\n",
    "data = pd.read_csv(file_path).dropna(subset=['cmem_t_edit_distance'])\n",
    "\n",
    "data['cmem_t_edit_distance'] = pd.to_numeric(data['cmem_t_edit_distance'])\n",
    "\n",
    "data['percentage_change'] = data['cmem_t_edit_distance'].pct_change() * 100\n",
    "\n",
    "significant_drops = data[data['percentage_change'] <= -50]\n",
    "\n",
    "plt.figure(figsize=(10, 6))\n",
    "plt.plot(data.index, data['cmem_t_edit_distance'], linestyle='-')\n",
    "plt.scatter(significant_drops.index, significant_drops['cmem_t_edit_distance'], marker='o', color='red', label='Significant Drop (>50%)')\n",
    "\n",
    "texts = []\n",
    "for idx in significant_drops.index:\n",
    "    texts.append(plt.text(idx, data.loc[idx, 'cmem_t_edit_distance'], f\"({idx},{data.loc[idx, 'cmem_t_edit_distance']})\", color='red'))\n",
    "\n",
    "adjust_text(texts, arrowprops=dict(arrowstyle='->', color='red'))\n",
    "\n",
    "plt.title('cmem_t_edit_distance over Reports Index')\n",
    "plt.xlabel('Index')\n",
    "plt.ylabel('cmem_t_edit_distance')\n",
    "plt.legend()\n",
    "plt.grid(True)\n",
    "plt.show()"
   ]
  },
  {
   "cell_type": "code",
   "execution_count": null,
   "metadata": {},
   "outputs": [],
   "source": [
    "# file_path =  f\"/home/yl3427/cylab/selfCorrectionAgent/t14_train_rules_0.csv\"\n",
    "memory_df = pd.read_csv(file_path)\n",
    "significant_drops_df = memory_df.iloc[significant_drops.index]\n",
    "significant_drops_df.to_csv('significant_drops.csv', index=False)\n",
    "significant_drops_df"
   ]
  },
  {
   "cell_type": "code",
   "execution_count": null,
   "metadata": {},
   "outputs": [],
   "source": [
    "memory_df['text'].apply(len).mean()"
   ]
  },
  {
   "cell_type": "code",
   "execution_count": null,
   "metadata": {},
   "outputs": [],
   "source": [
    "significant_drops_df['text'].apply(len)"
   ]
  },
  {
   "cell_type": "code",
   "execution_count": null,
   "metadata": {},
   "outputs": [],
   "source": [
    "memory_df.columns"
   ]
  },
  {
   "cell_type": "code",
   "execution_count": null,
   "metadata": {},
   "outputs": [],
   "source": []
  },
  {
   "cell_type": "code",
   "execution_count": null,
   "metadata": {},
   "outputs": [],
   "source": []
  },
  {
   "cell_type": "code",
   "execution_count": null,
   "metadata": {},
   "outputs": [],
   "source": [
    "from src.metrics import t14_performance_report, n03_performance_report, relax_t14_performance_report, relax_n03_performance_report\n",
    "import numpy as np\n",
    "import pandas as pd\n",
    "\n",
    "memory_df = pd.read_csv(f\"/home/yl3427/cylab/selfCorrectionAgent/t14_dynamic_test_0.csv\")\n",
    "memory_df = memory_df.drop(['Unnamed: 0', 'patient_filename', 'text', 'type', 'n'], axis=1)\n",
    "\n",
    "# x-axis\n",
    "train_file_path =  f\"/home/yl3427/cylab/selfCorrectionAgent/result/t14_train_0.csv\"\n",
    "train_data = pd.read_csv(train_file_path)\n",
    "memory_idx = []\n",
    "for idx, row in train_data.iterrows():\n",
    "    if row[\"cmem_t_is_updated\"] == True:\n",
    "        memory_idx.append(idx)\n",
    "\n",
    "# Check for parsing error: OK\n",
    "for i in memory_idx:\n",
    "    if len(memory_df[memory_df[f\"cmem_t_{i}reports_is_parsed\"]==False]) > 0:\n",
    "        print(f\"parsing error at memory {i}\")\n",
    "\n",
    "# gather y-axis data\n",
    "precision_lst = []\n",
    "recall_lst = []\n",
    "f1_lst = []\n",
    "for i in memory_idx:\n",
    "    precision, recall, f1 = t14_performance_report(memory_df, f'cmem_t_{i}reports_ans_str')\n",
    "    precision_lst.append(precision)\n",
    "    recall_lst.append(recall)\n",
    "    f1_lst.append(f1)"
   ]
  },
  {
   "cell_type": "code",
   "execution_count": null,
   "metadata": {},
   "outputs": [],
   "source": [
    "memory_df = pd.read_csv(f\"/home/yl3427/cylab/selfCorrectionAgent/t14_dynamic_test_0.csv\")\n",
    "\n",
    "zs_df = pd.read_csv(\"/secure/shared_data/rag_tnm_results/t14_results/mixtral_all_brca_luad_zs_results.csv\")\n",
    "fs_df = pd.read_csv(\"/secure/shared_data/rag_tnm_results/t14_results/mixtral_all_brca_luad_fs_results.csv\")\n",
    "zscot_df = pd.read_csv(\"/secure/shared_data/rag_tnm_results/t14_results/mixtral_all_brca_zscot_results.csv\")\n",
    "                       \n",
    "filtered_zs_df = zs_df[zs_df[\"patient_filename\"].isin(memory_df['patient_filename'])]\n",
    "filtered_fs_df = fs_df[fs_df[\"patient_filename\"].isin(memory_df['patient_filename'])]\n",
    "filtered_zscot_df = zscot_df[zscot_df[\"patient_filename\"].isin(memory_df['patient_filename'])]\n",
    "\n",
    "zs_precision, zs_recall, zs_f1 = t14_performance_report(filtered_zs_df, 'ans_str')\n",
    "fs_precision, fs_recall, fs_f1 = t14_performance_report(filtered_fs_df, 'ans_str')\n",
    "zscot_precision, zscot_recall, zscot_f1 = t14_performance_report(filtered_zscot_df, 'ans_str_0')"
   ]
  },
  {
   "cell_type": "code",
   "execution_count": null,
   "metadata": {},
   "outputs": [],
   "source": [
    "zs_precision, zs_recall, zs_f1 = t14_performance_report(filtered_zs_df, 'ans_str')\n",
    "zs_precision, zs_recall, zs_f1"
   ]
  },
  {
   "cell_type": "code",
   "execution_count": null,
   "metadata": {},
   "outputs": [],
   "source": [
    "import matplotlib.pyplot as plt\n",
    "\n",
    "plt.figure(figsize=(15, 10))\n",
    "\n",
    "plt.plot(memory_idx, precision_lst, label='Memory Precision', color='blue', marker='o')\n",
    "plt.plot(memory_idx, recall_lst, label='Memory Recall', color='green', marker='o')\n",
    "plt.plot(memory_idx, f1_lst, label='Memory F1 Score', color='red', marker='o')\n",
    "\n",
    "plt.axhline(y=zs_precision, color='blue', linestyle='--', label='Zero-shot Precision')\n",
    "plt.axhline(y=zs_recall, color='green', linestyle='--', label='Zero-shot Recall')\n",
    "plt.axhline(y=zs_f1, color='red', linestyle='--', label='Zero-shot F1 Score')\n",
    "\n",
    "for i in range(len(memory_idx)):\n",
    "    if (precision_lst[i] < zs_precision) and (recall_lst[i] < zs_recall):\n",
    "        plt.annotate(f'{memory_idx[i]}', \n",
    "                     (memory_idx[i], f1_lst[i]), \n",
    "                     textcoords=\"offset points\", \n",
    "                     xytext=(0,10), \n",
    "                     ha='center', \n",
    "                     fontsize=10, \n",
    "                     color='red')\n",
    "\n",
    "plt.xlabel('# of Reports for Memory (t14_train_0.csv)')\n",
    "plt.ylabel('Scores')\n",
    "plt.title('Testing Results on 700 test Reports (t14_test_0.csv)')\n",
    "plt.legend()\n",
    "plt.grid(True)\n",
    "\n",
    "plt.show()"
   ]
  },
  {
   "cell_type": "code",
   "execution_count": null,
   "metadata": {},
   "outputs": [],
   "source": [
    "bad_memory_idx = []\n",
    "for i in range(len(memory_idx)):\n",
    "    if precision_lst[i] < zs_precision and recall_lst[i] < zs_recall:\n",
    "        bad_memory_idx.append(memory_idx[i])   \n",
    "\n",
    "len(bad_memory_idx)"
   ]
  },
  {
   "cell_type": "code",
   "execution_count": null,
   "metadata": {},
   "outputs": [],
   "source": [
    "for idx in bad_memory_idx:\n",
    "    print(train_data.iloc[idx][\"cmem_t_memory_str\"])\n",
    "    print(\"---------\")\n",
    "    "
   ]
  },
  {
   "cell_type": "markdown",
   "metadata": {},
   "source": [
    "### n03"
   ]
  },
  {
   "cell_type": "code",
   "execution_count": null,
   "metadata": {},
   "outputs": [],
   "source": [
    "from src.metrics import t14_performance_report, n03_performance_report, relax_t14_performance_report, relax_n03_performance_report\n",
    "import numpy as np\n",
    "import pandas as pd\n",
    "\n",
    "memory_df = pd.read_csv(f\"/home/yl3427/cylab/selfCorrectionAgent/n03_dynamic_test_0.csv\")\n",
    "\n",
    "# x-axis\n",
    "train_file_path =  f\"/home/yl3427/cylab/selfCorrectionAgent/result/n03_train_0.csv\"\n",
    "train_data = pd.read_csv(train_file_path)\n",
    "memory_idx = []\n",
    "for idx, row in train_data.iterrows():\n",
    "    if row[\"cmem_n_is_updated\"] == True:\n",
    "        memory_idx.append(idx)\n",
    "\n",
    "# Check for parsing error: OK\n",
    "for i in memory_idx:\n",
    "    if len(memory_df[memory_df[f\"cmem_n_{i}reports_is_parsed\"]==False]) > 0:\n",
    "        print(f\"parsing error at memory {i}\")\n",
    "\n",
    "# gather y-axis data\n",
    "precision_lst = []\n",
    "recall_lst = []\n",
    "f1_lst = []\n",
    "for i in memory_idx:\n",
    "    precision, recall, f1 = n03_performance_report(memory_df, f'cmem_n_{i}reports_ans_str')\n",
    "    precision_lst.append(precision)\n",
    "    recall_lst.append(recall)\n",
    "    f1_lst.append(f1)"
   ]
  },
  {
   "cell_type": "code",
   "execution_count": null,
   "metadata": {},
   "outputs": [],
   "source": [
    "zs_df = pd.read_csv(\"/secure/shared_data/rag_tnm_results/n03_results/mixtral_all_brca_zs_results.csv\")\n",
    "filtered_zs_df = zs_df[zs_df[\"patient_filename\"].isin(memory_df['patient_filename'])]\n",
    "zs_precision, zs_recall, zs_f1 = n03_performance_report(filtered_zs_df, 'ans_str')"
   ]
  },
  {
   "cell_type": "code",
   "execution_count": null,
   "metadata": {},
   "outputs": [],
   "source": [
    "import matplotlib.pyplot as plt\n",
    "\n",
    "plt.figure(figsize=(15, 10))\n",
    "\n",
    "plt.plot(memory_idx, precision_lst, label='Memory Precision', color='blue', marker='o')\n",
    "plt.plot(memory_idx, recall_lst, label='Memory Recall', color='green', marker='o')\n",
    "plt.plot(memory_idx, f1_lst, label='Memory F1 Score', color='red', marker='o')\n",
    "\n",
    "plt.axhline(y=zs_precision, color='blue', linestyle='--', label='Zero-shot Precision')\n",
    "plt.axhline(y=zs_recall, color='green', linestyle='--', label='Zero-shot Recall')\n",
    "plt.axhline(y=zs_f1, color='red', linestyle='--', label='Zero-shot F1 Score')\n",
    "\n",
    "for i in range(len(memory_idx)):\n",
    "    if (precision_lst[i] < zs_precision) and (recall_lst[i] < zs_recall):\n",
    "        plt.annotate(f'{memory_idx[i]}', \n",
    "                     (memory_idx[i], f1_lst[i]), \n",
    "                     textcoords=\"offset points\", \n",
    "                     xytext=(0,10), \n",
    "                     ha='center', \n",
    "                     fontsize=10, \n",
    "                     color='red')\n",
    "\n",
    "plt.xlabel('# of Reports for Memory (n03_train_0.csv)')\n",
    "plt.ylabel('Scores')\n",
    "plt.title('Testing Results on 700 test Reports (n03_test_0.csv)')\n",
    "plt.legend()\n",
    "plt.grid(True)\n",
    "\n",
    "plt.show()"
   ]
  },
  {
   "cell_type": "markdown",
   "metadata": {},
   "source": [
    "### Rules"
   ]
  },
  {
   "cell_type": "code",
   "execution_count": null,
   "metadata": {},
   "outputs": [],
   "source": [
    "memory_df.columns"
   ]
  },
  {
   "cell_type": "code",
   "execution_count": null,
   "metadata": {},
   "outputs": [],
   "source": [
    "import matplotlib.pyplot as plt\n",
    "import numpy as np\n",
    "import pandas as pd\n",
    "from fuzzywuzzy import fuzz\n",
    "\n",
    "for i in range(10):\n",
    "    memory_df = pd.read_csv(f\"/home/yl3427/cylab/selfCorrectionAgent/t14_train_rules_{i}.csv\")\n",
    "    prev_rules = \"\"\n",
    "    similarity_scores = []\n",
    "    for idx, row in memory_df.iterrows():\n",
    "        if prev_rules == \"\":\n",
    "            prev_rules = row['cmem_t_rules_str']\n",
    "            similarity_scores.append(np.nan)\n",
    "            continue\n",
    "        similarity_scores.append(fuzz.ratio(row['cmem_t_rules_str'], prev_rules))\n",
    "        prev_rules = row['cmem_t_rules_str']\n",
    "\n",
    "    plt.figure(figsize=(10, 6))\n",
    "\n",
    "    plt.plot(memory_df.index, similarity_scores, label=f\"t14_train_rules_{i}\")\n",
    "\n",
    "    plt.xlabel(f'# of Reports (t14_train_{i}.csv)')\n",
    "    plt.ylabel('Similarity Scores')\n",
    "    plt.title('Similarity between the current rules and the previous rules')\n",
    "    plt.legend()\n",
    "    plt.grid(True)\n",
    "\n",
    "    plt.show()"
   ]
  },
  {
   "cell_type": "code",
   "execution_count": null,
   "metadata": {},
   "outputs": [],
   "source": [
    "import matplotlib.pyplot as plt\n",
    "import numpy as np\n",
    "import pandas as pd\n",
    "from fuzzywuzzy import fuzz\n",
    "\n",
    "\n",
    "plt.figure(figsize=(10, 6))\n",
    "for i in range(10):\n",
    "    memory_df = pd.read_csv(f\"/home/yl3427/cylab/selfCorrectionAgent/t14_train_rules_{i}.csv\")\n",
    "    prev_rules = \"\"\n",
    "    similarity_scores = []\n",
    "    for idx, row in memory_df.iterrows():\n",
    "        if prev_rules == \"\":\n",
    "            prev_rules = row['cmem_t_rules_str']\n",
    "            similarity_scores.append(np.nan)\n",
    "            continue\n",
    "        similarity_scores.append(fuzz.ratio(row['cmem_t_rules_str'], prev_rules))\n",
    "        prev_rules = row['cmem_t_rules_str']\n",
    "\n",
    "    \n",
    "\n",
    "    plt.plot(memory_df.index, similarity_scores, label=f\"t14_train_rules_{i}\")\n",
    "\n",
    "plt.xlabel(f'# of Reports')\n",
    "plt.ylabel('Similarity Scores')\n",
    "plt.title('Similarity between the current rules and the previous rules')\n",
    "plt.legend()\n",
    "plt.grid(True)\n",
    "\n",
    "plt.show()\n",
    "\n",
    "# df = pd.read_csv(f\"/home/yl3427/cylab/selfCorrectionAgent/t14_train_rules_0.csv\")\n",
    "# prev_rules = \"\"\n",
    "# similarity_scores = []\n",
    "# for idx, row in df.iterrows():\n",
    "#     if prev_rules == \"\":\n",
    "#         prev_rules = row['cmem_t_rules_str']\n",
    "#         similarity_scores.append(np.nan)\n",
    "#         continue\n",
    "#     similarity_scores.append(fuzz.ratio(row['cmem_t_rules_str'], prev_rules))\n",
    "#     prev_rules = row['cmem_t_rules_str']\n",
    "\n",
    "\n",
    "# plt.figure(figsize=(10, 6))\n",
    "\n",
    "# plt.plot(df.index, similarity_scores, label=f\"t14_train_rules_0\")\n",
    "# # plt.plot(memory_idx, recall_lst, label='Recall', color='green')\n",
    "# # plt.plot(memory_idx, f1_lst, label='F1 Score', color='red')\n",
    "\n",
    "# plt.xlabel('# of Reports (t14_train_0.csv)')\n",
    "# plt.ylabel('Similarity Scores')\n",
    "# plt.title('Similarity between the current rules and the previous rules')\n",
    "# plt.legend()\n",
    "# plt.grid(True)\n",
    "\n",
    "# plt.show()"
   ]
  },
  {
   "cell_type": "markdown",
   "metadata": {},
   "source": [
    "### reasoning"
   ]
  },
  {
   "cell_type": "code",
   "execution_count": null,
   "metadata": {},
   "outputs": [],
   "source": [
    "df = pd.read_csv(f\"/home/yl3427/cylab/selfCorrectionAgent/t14_dynamic_test_0_with_reas.csv\")\n",
    "\n",
    "train_data = pd.read_csv(f\"/home/yl3427/cylab/selfCorrectionAgent/result/t14_train_0.csv\")\n",
    "memory_idx = []\n",
    "memory_dict = {}\n",
    "for idx, row in train_data.iterrows():\n",
    "    if row[\"cmem_t_is_updated\"] == True:\n",
    "        memory_idx.append(idx)\n",
    "        memory_dict[idx] = row[\"cmem_t_memory_str\"]\n",
    "memory_idx = memory_idx[80::5]\n",
    "\n",
    "# Check for parsing error: OK\n",
    "for i in memory_idx:\n",
    "    if len(df[df[f\"cmem_t_{i}reports_is_parsed\"]==False]) > 0:\n",
    "        print(f\"parsing error at memory {i}\")\n",
    "\n",
    "\n",
    "# gather y-axis data\n",
    "precision_lst = []\n",
    "recall_lst = []\n",
    "f1_lst = []\n",
    "for i in memory_idx:\n",
    "    precision, recall, f1 = t14_performance_report(df, f'cmem_t_{i}reports_ans_str')\n",
    "    precision_lst.append(precision)\n",
    "    recall_lst.append(recall)\n",
    "    f1_lst.append(f1)"
   ]
  },
  {
   "cell_type": "code",
   "execution_count": null,
   "metadata": {},
   "outputs": [],
   "source": [
    "df.columns"
   ]
  },
  {
   "cell_type": "code",
   "execution_count": null,
   "metadata": {},
   "outputs": [],
   "source": [
    "df[[\"Unnamed: 0\",\"t\", \"cmem_t_85reports_ans_str\", \"cmem_t_90reports_ans_str\", \"cmem_t_95reports_ans_str\"]]\n",
    "# 5, 7&8(substage), 22, 25\n",
    "# 1154, 822, 923 "
   ]
  },
  {
   "cell_type": "code",
   "execution_count": null,
   "metadata": {},
   "outputs": [],
   "source": [
    "zs_df = pd.read_csv(\"/secure/shared_data/rag_tnm_results/t14_results/mixtral_all_brca_luad_zs_results.csv\")\n",
    "filtered_zs_df = zs_df[zs_df[\"patient_filename\"].isin(df['patient_filename'])]\n",
    "filtered_zs_df[['Unnamed: 0', 't', 'ans_str']]\n",
    "# 783, 822, 923, "
   ]
  },
  {
   "cell_type": "code",
   "execution_count": null,
   "metadata": {},
   "outputs": [],
   "source": [
    "df[df[\"Unnamed: 0\"].isin([1154, 822, 923, 783])].to_csv(\"t_reasons.csv\", index=False)"
   ]
  },
  {
   "cell_type": "code",
   "execution_count": null,
   "metadata": {},
   "outputs": [],
   "source": [
    "#85, 90, 95\n",
    "memory_dict[85]"
   ]
  },
  {
   "cell_type": "code",
   "execution_count": null,
   "metadata": {},
   "outputs": [],
   "source": [
    "memory_dict[90]"
   ]
  },
  {
   "cell_type": "code",
   "execution_count": null,
   "metadata": {},
   "outputs": [],
   "source": [
    "memory_dict[95]"
   ]
  },
  {
   "cell_type": "markdown",
   "metadata": {},
   "source": [
    "## n03"
   ]
  },
  {
   "cell_type": "code",
   "execution_count": null,
   "metadata": {},
   "outputs": [],
   "source": [
    "import numpy as np\n",
    "import pandas as pd\n",
    "from src.metrics import t14_performance_report, n03_performance_report, relax_t14_performance_report, relax_n03_performance_report\n",
    "\n",
    "\n",
    "df = pd.read_csv(f\"/home/yl3427/cylab/selfCorrectionAgent/n03_dynamic_test_0_with_reas.csv\")\n",
    "\n",
    "train_data = pd.read_csv(f\"/home/yl3427/cylab/selfCorrectionAgent/result/n03_train_0.csv\")\n",
    "\n",
    "memory_idx = []\n",
    "memory_dict = {}\n",
    "for idx, row in train_data.iterrows():\n",
    "    if row[\"cmem_n_is_updated\"] == True:\n",
    "        memory_idx.append(idx)\n",
    "        memory_dict[idx] = row[\"cmem_n_memory_str\"]\n",
    "memory_idx = memory_idx[80::5]\n",
    "\n",
    "# Check for parsing error: OK\n",
    "for i in memory_idx:\n",
    "    if len(df[df[f\"cmem_n_{i}reports_is_parsed\"]==False]) > 0:\n",
    "        print(f\"parsing error at memory {i}\")\n",
    "\n",
    "df = df[['Unnamed: 0', 'text', 'n', 'cmem_n_89reports_ans_str', 'cmem_n_89reasoning','cmem_n_96reports_ans_str', 'cmem_n_96reasoning']]\n",
    "\n",
    "# gather y-axis data\n",
    "precision_lst = []\n",
    "recall_lst = []\n",
    "f1_lst = []\n",
    "for i in memory_idx:\n",
    "    precision, recall, f1 = n03_performance_report(df, f'cmem_n_{i}reports_ans_str')\n",
    "    precision_lst.append(precision)\n",
    "    recall_lst.append(recall)\n",
    "    f1_lst.append(f1)"
   ]
  },
  {
   "cell_type": "code",
   "execution_count": null,
   "metadata": {},
   "outputs": [],
   "source": [
    "memory_idx"
   ]
  },
  {
   "cell_type": "code",
   "execution_count": null,
   "metadata": {},
   "outputs": [],
   "source": [
    "memory_dict[89]"
   ]
  },
  {
   "cell_type": "code",
   "execution_count": null,
   "metadata": {},
   "outputs": [],
   "source": [
    "memory_dict[96]"
   ]
  },
  {
   "cell_type": "code",
   "execution_count": null,
   "metadata": {},
   "outputs": [],
   "source": [
    "df.columns"
   ]
  },
  {
   "cell_type": "code",
   "execution_count": null,
   "metadata": {},
   "outputs": [],
   "source": [
    "df[[\"Unnamed: 0\",\"n\", \"cmem_n_89reports_ans_str\", \"cmem_n_96reports_ans_str\"]]\n",
    "# 957, 938, 1174, 814"
   ]
  },
  {
   "cell_type": "code",
   "execution_count": null,
   "metadata": {},
   "outputs": [],
   "source": [
    "from src.metrics import t14_performance_report, n03_performance_report, relax_t14_performance_report, relax_n03_performance_report\n"
   ]
  },
  {
   "cell_type": "code",
   "execution_count": null,
   "metadata": {},
   "outputs": [],
   "source": [
    "df[df[\"Unnamed: 0\"].isin([957, 938, 1174, 814])].to_csv(\"n_reasons.csv\", index=False)"
   ]
  },
  {
   "cell_type": "code",
   "execution_count": null,
   "metadata": {},
   "outputs": [],
   "source": []
  },
  {
   "cell_type": "markdown",
   "metadata": {},
   "source": [
    "## 10 times"
   ]
  },
  {
   "cell_type": "code",
   "execution_count": 3,
   "metadata": {},
   "outputs": [
    {
     "name": "stdout",
     "output_type": "stream",
     "text": [
      "parsing error at memory 10\n",
      "\n",
      "memory at 10\n",
      "              precision    recall  f1-score   support\n",
      "\n",
      "          T1       0.94      0.77      0.85       169\n",
      "          T2       0.85      0.96      0.90       405\n",
      "          T3       0.87      0.78      0.82        92\n",
      "          T4       0.90      0.58      0.70        33\n",
      "\n",
      "    accuracy                           0.87       699\n",
      "   macro avg       0.89      0.77      0.82       699\n",
      "weighted avg       0.88      0.87      0.87       699\n",
      "\n",
      "memory at 20\n",
      "              precision    recall  f1-score   support\n",
      "\n",
      "          T1       0.94      0.78      0.85       169\n",
      "          T2       0.87      0.95      0.90       406\n",
      "          T3       0.83      0.86      0.84        92\n",
      "          T4       0.86      0.58      0.69        33\n",
      "\n",
      "    accuracy                           0.88       700\n",
      "   macro avg       0.87      0.79      0.82       700\n",
      "weighted avg       0.88      0.88      0.87       700\n",
      "\n",
      "memory at 30\n",
      "              precision    recall  f1-score   support\n",
      "\n",
      "          T1       0.92      0.80      0.86       169\n",
      "          T2       0.87      0.94      0.91       406\n",
      "          T3       0.83      0.85      0.84        92\n",
      "          T4       0.86      0.58      0.69        33\n",
      "\n",
      "    accuracy                           0.88       700\n",
      "   macro avg       0.87      0.79      0.82       700\n",
      "weighted avg       0.88      0.88      0.88       700\n",
      "\n",
      "memory at 40\n",
      "              precision    recall  f1-score   support\n",
      "\n",
      "          T1       0.94      0.78      0.85       169\n",
      "          T2       0.88      0.88      0.88       406\n",
      "          T3       0.64      0.92      0.76        92\n",
      "          T4       0.90      0.55      0.68        33\n",
      "\n",
      "    accuracy                           0.85       700\n",
      "   macro avg       0.84      0.78      0.79       700\n",
      "weighted avg       0.86      0.85      0.85       700\n",
      "\n",
      "memory at 50\n",
      "              precision    recall  f1-score   support\n",
      "\n",
      "          T1       0.93      0.82      0.87       169\n",
      "          T2       0.88      0.95      0.91       406\n",
      "          T3       0.86      0.86      0.86        92\n",
      "          T4       0.86      0.58      0.69        33\n",
      "\n",
      "    accuracy                           0.89       700\n",
      "   macro avg       0.88      0.80      0.83       700\n",
      "weighted avg       0.89      0.89      0.89       700\n",
      "\n",
      "memory at 60\n",
      "              precision    recall  f1-score   support\n",
      "\n",
      "          T1       0.94      0.80      0.87       169\n",
      "          T2       0.87      0.96      0.91       406\n",
      "          T3       0.87      0.83      0.85        92\n",
      "          T4       0.86      0.58      0.69        33\n",
      "\n",
      "    accuracy                           0.88       700\n",
      "   macro avg       0.89      0.79      0.83       700\n",
      "weighted avg       0.89      0.88      0.88       700\n",
      "\n",
      "memory at 70\n",
      "              precision    recall  f1-score   support\n",
      "\n",
      "          T1       0.93      0.76      0.84       169\n",
      "          T2       0.86      0.95      0.90       406\n",
      "          T3       0.84      0.86      0.85        92\n",
      "          T4       0.86      0.58      0.69        33\n",
      "\n",
      "    accuracy                           0.87       700\n",
      "   macro avg       0.87      0.79      0.82       700\n",
      "weighted avg       0.88      0.87      0.87       700\n",
      "\n",
      "memory at 80\n",
      "              precision    recall  f1-score   support\n",
      "\n",
      "          T1       0.93      0.76      0.84       169\n",
      "          T2       0.86      0.95      0.90       406\n",
      "          T3       0.84      0.86      0.85        92\n",
      "          T4       0.90      0.58      0.70        33\n",
      "\n",
      "    accuracy                           0.87       700\n",
      "   macro avg       0.88      0.79      0.82       700\n",
      "weighted avg       0.88      0.87      0.87       700\n",
      "\n",
      "memory at 90\n",
      "              precision    recall  f1-score   support\n",
      "\n",
      "          T1       0.95      0.64      0.77       169\n",
      "          T2       0.80      0.98      0.88       406\n",
      "          T3       0.96      0.72      0.82        92\n",
      "          T4       0.90      0.58      0.70        33\n",
      "\n",
      "    accuracy                           0.85       700\n",
      "   macro avg       0.90      0.73      0.79       700\n",
      "weighted avg       0.86      0.85      0.84       700\n",
      "\n",
      "memory at 100\n",
      "              precision    recall  f1-score   support\n",
      "\n",
      "          T1       0.94      0.66      0.77       169\n",
      "          T2       0.81      0.98      0.88       406\n",
      "          T3       0.94      0.73      0.82        92\n",
      "          T4       0.90      0.58      0.70        33\n",
      "\n",
      "    accuracy                           0.85       700\n",
      "   macro avg       0.90      0.73      0.80       700\n",
      "weighted avg       0.86      0.85      0.84       700\n",
      "\n"
     ]
    }
   ],
   "source": [
    "from src.metrics import t14_performance_report, n03_performance_report, relax_t14_performance_report, relax_n03_performance_report\n",
    "import numpy as np\n",
    "import pandas as pd\n",
    "\n",
    "result_df = pd.read_csv(f\"/home/yl3427/cylab/selfCorrectionAgent/t14_dynamic_test_0_outof_10runs.csv\")\n",
    "\n",
    "train_df = pd.read_csv(f\"/home/yl3427/cylab/selfCorrectionAgent/result/t14_train_0.csv\")\n",
    "\n",
    "memory_tup = []\n",
    "for idx, row in train_df.iterrows():\n",
    "    memory_tup.append((idx+1,row['cmem_t_memory_str']))\n",
    "memory_tup = memory_tup[9::10]\n",
    "\n",
    "# Check for parsing error: \n",
    "for i, _ in memory_tup:\n",
    "    if len(result_df[result_df[f\"cmem_t_{i}reports_is_parsed\"]==False]) > 0:\n",
    "        print(f\"parsing error at memory {i}\")\n",
    "        print()\n",
    "        # parsing error at memory 10\n",
    "      \n",
    "# gather y-axis data\n",
    "precision_lst = []\n",
    "recall_lst = []\n",
    "f1_lst = []\n",
    "\n",
    "x_idx = []\n",
    "for i, _ in memory_tup:\n",
    "    x_idx.append(i)\n",
    "    print(f\"memory at {i}\")\n",
    "    precision, recall, f1 = t14_performance_report(result_df, f'cmem_t_{i}reports_ans_str')\n",
    "    precision_lst.append(precision)\n",
    "    recall_lst.append(recall)\n",
    "    f1_lst.append(f1)"
   ]
  },
  {
   "cell_type": "code",
   "execution_count": 4,
   "metadata": {},
   "outputs": [
    {
     "data": {
      "image/png": "[encoded data removed]",
      "text/plain": [
       "<Figure size 1500x1000 with 1 Axes>"
      ]
     },
     "metadata": {},
     "output_type": "display_data"
    }
   ],
   "source": [
    "import matplotlib.pyplot as plt\n",
    "\n",
    "plt.figure(figsize=(15, 10))\n",
    "\n",
    "plt.plot(x_idx, precision_lst, label='Memory Precision', color='blue', marker='o')\n",
    "plt.plot(x_idx, recall_lst, label='Memory Recall', color='green', marker='o')\n",
    "plt.plot(x_idx, f1_lst, label='Memory F1 Score', color='red', marker='o')\n",
    "\n",
    "# plt.axhline(y=zs_precision, color='blue', linestyle='--', label='Zero-shot Precision')\n",
    "# plt.axhline(y=zs_recall, color='green', linestyle='--', label='Zero-shot Recall')\n",
    "# plt.axhline(y=zs_f1, color='red', linestyle='--', label='Zero-shot F1 Score')\n",
    "\n",
    "# for i in range(len(memory_idx)):\n",
    "#     if (precision_lst[i] < zs_precision) and (recall_lst[i] < zs_recall):\n",
    "#         plt.annotate(f'{memory_idx[i]}', \n",
    "#                      (memory_idx[i], f1_lst[i]), \n",
    "#                      textcoords=\"offset points\", \n",
    "#                      xytext=(0,10), \n",
    "#                      ha='center', \n",
    "#                      fontsize=10, \n",
    "#                      color='red')\n",
    "\n",
    "plt.xlabel('# of Reports for Memory (t14_train_0.csv)')\n",
    "plt.ylabel('Scores')\n",
    "plt.title('Testing Results on 700 test Reports (t14_test_0.csv)')\n",
    "plt.legend()\n",
    "plt.grid(True)\n",
    "\n",
    "plt.show()"
   ]
  }
 ],
 "metadata": {
  "kernelspec": {
   "display_name": "selfCorrection",
   "language": "python",
   "name": "python3"
  },
  "language_info": {
   "codemirror_mode": {
    "name": "ipython",
    "version": 3
   },
   "file_extension": ".py",
   "mimetype": "text/x-python",
   "name": "python",
   "nbconvert_exporter": "python",
   "pygments_lexer": "ipython3",
   "version": "3.9.19"
  }
 },
 "nbformat": 4,
 "nbformat_minor": 2
}
