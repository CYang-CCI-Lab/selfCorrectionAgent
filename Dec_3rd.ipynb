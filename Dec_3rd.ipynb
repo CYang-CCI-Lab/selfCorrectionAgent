{
 "cells": [
  {
   "cell_type": "code",
   "execution_count": 1,
   "metadata": {},
   "outputs": [],
   "source": [
    "import pandas as pd\n",
    "from src.metrics import *"
   ]
  },
  {
   "cell_type": "code",
   "execution_count": null,
   "metadata": {},
   "outputs": [],
   "source": [
    "df.columns"
   ]
  },
  {
   "cell_type": "code",
   "execution_count": null,
   "metadata": {},
   "outputs": [],
   "source": [
    "df = pd.read_csv('/home/yl3427/cylab/selfCorrectionAgent/mixtral_rag_result/0929_ltm_rag2.csv') # 이거야. 여기에 mixtral결과 다있어\n",
    "t14_calculate_metrics(df['t'], df['zscot_t_stage'])"
   ]
  },
  {
   "cell_type": "code",
   "execution_count": null,
   "metadata": {},
   "outputs": [],
   "source": []
  },
  {
   "cell_type": "code",
   "execution_count": null,
   "metadata": {},
   "outputs": [],
   "source": [
    "t14_calculate_metrics()"
   ]
  },
  {
   "cell_type": "code",
   "execution_count": 6,
   "metadata": {},
   "outputs": [],
   "source": [
    "def calculate_mean_std(results, cat):\n",
    "    precision_list = [result[cat][\"precision\"] for result in results]\n",
    "    recall_list = [result[cat][\"recall\"] for result in results]\n",
    "    f1_list = [result[cat][\"f1\"] for result in results]\n",
    "    support_list = [result[cat][\"support\"] for result in results]\n",
    "    num_errors_list = [result[cat][\"num_errors\"] for result in results]\n",
    "\n",
    "    mean_precision = sum(precision_list) / len(precision_list)\n",
    "    mean_recall = sum(recall_list) / len(recall_list)\n",
    "    mean_f1 = sum(f1_list) / len(f1_list)\n",
    "\n",
    "    std_precision = (\n",
    "        sum([(x - mean_precision) ** 2 for x in precision_list]) / len(precision_list)\n",
    "    ) ** 0.5\n",
    "    std_recall = (\n",
    "        sum([(x - mean_recall) ** 2 for x in recall_list]) / len(recall_list)\n",
    "    ) ** 0.5\n",
    "    std_f1 = (sum([(x - mean_f1) ** 2 for x in f1_list]) / len(f1_list)) ** 0.5\n",
    "\n",
    "    return {\n",
    "        \"mean_precision\": round(mean_precision, 3),\n",
    "        \"mean_recall\": round(mean_recall, 3),\n",
    "        \"mean_f1\": round(mean_f1, 3),\n",
    "        \"std_precision\": round(std_precision, 3),\n",
    "        \"std_recall\": round(std_recall, 3),\n",
    "        \"std_f1\": round(std_f1, 3),\n",
    "        \"sum_support\": sum(support_list),\n",
    "        \"sum_num_errors\": sum(num_errors_list),\n",
    "        \"raw_mean_precision\": mean_precision,\n",
    "        \"raw_mean_recall\": mean_recall,\n",
    "        \"raw_mean_f1\": mean_f1,\n",
    "    }\n",
    "\n",
    "\n",
    "def output_tabular_performance(results, categories=[\"T1\", \"T2\", \"T3\", \"T4\"]):\n",
    "    precisions = []\n",
    "    recalls = []\n",
    "    f1s = []\n",
    "\n",
    "    for category in categories:\n",
    "        eval = calculate_mean_std(results, category)\n",
    "        print(\n",
    "            \"{} {:.3f}({:.3f}) {:.3f}({:.3f}) {:.3f}({:.3f})\".format(\n",
    "                category,\n",
    "                eval[\"mean_precision\"],\n",
    "                eval[\"std_precision\"],\n",
    "                eval[\"mean_recall\"],\n",
    "                eval[\"std_recall\"],\n",
    "                eval[\"mean_f1\"],\n",
    "                eval[\"std_f1\"],\n",
    "            )\n",
    "        )\n",
    "\n",
    "        # for calculating macro average\n",
    "        precisions.append(eval[\"raw_mean_precision\"])\n",
    "        recalls.append(eval[\"raw_mean_recall\"])\n",
    "        f1s.append(eval[\"raw_mean_f1\"])\n",
    "\n",
    "    print(\n",
    "        \"MacroAvg. {:.3f} {:.3f} {:.3f}\".format(\n",
    "            round(sum(precisions) / len(precisions), 3),\n",
    "            round(sum(recalls) / len(recalls), 3),\n",
    "            round(sum(f1s) / len(f1s), 3),\n",
    "        )\n",
    "    )"
   ]
  },
  {
   "cell_type": "markdown",
   "metadata": {},
   "source": [
    "Index(['patient_filename', 't', 'text', 'n', 'zscot_t_reasoning',\n",
    "       'zscot_t_stage', 'zscot_n_reasoning', 'zscot_n_stage',\n",
    "       'rag_raw_t_reasoning', 'rag_raw_t_stage', 'rag_raw_n_reasoning',\n",
    "       'rag_raw_n_stage', 'ltm_zs_t_reasoning', 'ltm_zs_t_stage',\n",
    "       'ltm_zs_n_reasoning', 'ltm_zs_n_stage', 'ltm_rag1_t_reasoning',\n",
    "       'ltm_rag1_t_stage', 'ltm_rag1_n_reasoning', 'ltm_rag1_n_stage',\n",
    "       'ltm_rag2_t_reasoning', 'ltm_rag2_t_stage', 'ltm_rag2_n_reasoning',\n",
    "       'ltm_rag2_n_stage', 'zscot_t_flag', 'zscot_n_flag', 'rag_raw_t_flag',\n",
    "       'rag_raw_n_flag', 'ltm_zs_t_flag', 'ltm_zs_n_flag', 'ltm_rag1_t_flag',\n",
    "       'ltm_rag1_n_flag', 'ltm_rag2_t_flag', 'ltm_rag2_n_flag'],\n",
    "      dtype='object')"
   ]
  },
  {
   "cell_type": "code",
   "execution_count": 36,
   "metadata": {},
   "outputs": [],
   "source": [
    "# kewltm_t_df = pd.read_csv(f\"/home/yl3427/cylab/selfCorrectionAgent/result/0718_t14_dynamic_test_{run}_outof_10runs.csv\")\n",
    "others_t_df = pd.read_csv('/home/yl3427/cylab/selfCorrectionAgent/mixtral_rag_result/0929_ltm_rag2.csv')"
   ]
  },
  {
   "cell_type": "code",
   "execution_count": null,
   "metadata": {},
   "outputs": [],
   "source": [
    "# For T\n",
    "print(\"Mixtral\")\n",
    "zscot_t_results = []\n",
    "rag_t_results = []\n",
    "ltm_rag_t_results = []\n",
    "kewltm_t_results = []\n",
    "\n",
    "t_label = 't'\n",
    "zscot_t_stage = 'zscot_t_stage'\n",
    "rag_t_stage = 'rag_raw_t_stage'\n",
    "ltm_rag_t_stage = 'ltm_rag1_t_stage'\n",
    "kewltm_t_stage = \"cmem_t_40reports_ans_str\"\n",
    "\n",
    "others_t_df = pd.read_csv('/home/yl3427/cylab/selfCorrectionAgent/mixtral_rag_result/0929_ltm_rag2.csv')\n",
    "\n",
    "run_lst = [0, 1, 2, 3, 4, 5, 6, 8]\n",
    "\n",
    "for run in run_lst:\n",
    "    t_test_df = pd.read_csv(\n",
    "        f\"/home/yl3427/cylab/selfCorrectionAgent/result/0718_t14_dynamic_test_{run}_outof_10runs.csv\"\n",
    "    ).sort_values(by=\"patient_filename\")\n",
    "\n",
    "    kewltm_t_results.append(\n",
    "        t14_calculate_metrics(t_test_df[t_label], t_test_df[kewltm_t_stage])\n",
    "    )\n",
    "\n",
    "    split_ids = t_test_df.patient_filename\n",
    "    others_t_df = others_t_df[others_t_df[\"patient_filename\"].isin(split_ids)]\n",
    "    zscot_t_results.append(t14_calculate_metrics(others_t_df[t_label], others_t_df[zscot_t_stage]))\n",
    "    rag_t_results.append(t14_calculate_metrics(others_t_df[t_label], others_t_df[rag_t_stage]))\n",
    "    ltm_rag_t_results.append(t14_calculate_metrics(others_t_df[t_label], others_t_df[ltm_rag_t_stage]))\n",
    "\n",
    "print(\"ZSCoT\")\n",
    "output_tabular_performance(zscot_t_results)\n",
    "\n",
    "print(\"RAG\")\n",
    "output_tabular_performance(rag_t_results)\n",
    "\n",
    "print(\"LTM-RAG\")\n",
    "output_tabular_performance(ltm_rag_t_results)\n",
    "\n",
    "print(\"KEW-LTM\")\n",
    "output_tabular_performance(kewltm_t_results)"
   ]
  },
  {
   "cell_type": "code",
   "execution_count": null,
   "metadata": {},
   "outputs": [],
   "source": [
    "# For N\n",
    "print(\"Mixtral\")\n",
    "zscot_n_results = []\n",
    "rag_n_results = []\n",
    "ltm_rag_n_results = []\n",
    "kewltm_n_results = []\n",
    "\n",
    "n_label = 'n'\n",
    "zscot_n_stage = 'zscot_n_stage'\n",
    "rag_n_stage = 'rag_raw_n_stage'\n",
    "ltm_rag_n_stage = 'ltm_rag1_n_stage'\n",
    "kewltm_n_stage = \"cmem_n_40reports_ans_str\"\n",
    "\n",
    "others_n_df = pd.read_csv('/home/yl3427/cylab/selfCorrectionAgent/mixtral_rag_result/0929_ltm_rag2.csv')\n",
    "\n",
    "run_lst = [0, 1, 3, 4, 5, 6, 7, 9]\n",
    "\n",
    "for run in run_lst:\n",
    "    n_test_df = pd.read_csv(\n",
    "        f\"/home/yl3427/cylab/selfCorrectionAgent/result/0718_n03_dynamic_test_{run}_outof_10runs.csv\"\n",
    "    ).sort_values(by=\"patient_filename\")\n",
    "\n",
    "    kewltm_n_results.append(\n",
    "        n03_calculate_metrics(n_test_df[n_label], n_test_df[kewltm_n_stage])\n",
    "    )\n",
    "\n",
    "    split_ids = n_test_df.patient_filename\n",
    "    others_n_df = others_n_df[others_n_df[\"patient_filename\"].isin(split_ids)]\n",
    "    zscot_n_results.append(n03_calculate_metrics(others_n_df[n_label], others_n_df[zscot_n_stage]))\n",
    "    rag_n_results.append(n03_calculate_metrics(others_n_df[n_label], others_n_df[rag_n_stage]))\n",
    "    ltm_rag_n_results.append(n03_calculate_metrics(others_n_df[n_label], others_n_df[ltm_rag_n_stage]))\n",
    "\n",
    "print(\"ZSCoT\")\n",
    "output_tabular_performance(zscot_n_results, categories=[\"N0\", \"N1\", \"N2\", \"N3\"])\n",
    "\n",
    "print(\"RAG\")\n",
    "output_tabular_performance(rag_n_results, categories=[\"N0\", \"N1\", \"N2\", \"N3\"])\n",
    "\n",
    "print(\"LTM-RAG\")\n",
    "output_tabular_performance(ltm_rag_n_results, categories=[\"N0\", \"N1\", \"N2\", \"N3\"])\n",
    "\n",
    "print(\"KEW-LTM\")\n",
    "output_tabular_performance(kewltm_n_results, categories=[\"N0\", \"N1\", \"N2\", \"N3\"])"
   ]
  },
  {
   "cell_type": "code",
   "execution_count": null,
   "metadata": {},
   "outputs": [],
   "source": [
    "lst = [\"N0\", \"N1\", \"N2\", \"N3\"]\n",
    "lst.append(\"\")\n",
    "lst"
   ]
  },
  {
   "cell_type": "code",
   "execution_count": null,
   "metadata": {},
   "outputs": [],
   "source": [
    "df = pd.read_csv('/home/yl3427/cylab/selfCorrectionAgent/result/1128_t14_ltm_rag1_med42_v2_800.csv')\n",
    "df.columns\n"
   ]
  },
  {
   "cell_type": "code",
   "execution_count": null,
   "metadata": {},
   "outputs": [],
   "source": [
    "t14_calculate_metrics(df['t'], df['t14_ltm_rag1_t_pred'])"
   ]
  },
  {
   "cell_type": "code",
   "execution_count": null,
   "metadata": {},
   "outputs": [],
   "source": [
    "t_test_df.columns"
   ]
  },
  {
   "cell_type": "code",
   "execution_count": null,
   "metadata": {},
   "outputs": [],
   "source": [
    "# For T\n",
    "print(\"Med42\")\n",
    "zscot_t_results = []\n",
    "rag_t_results = []\n",
    "ltm_rag_t_results = []\n",
    "kewltm_t_results = []\n",
    "\n",
    "t_label = 't'\n",
    "kewltm_t_stage = 'kepa_t_ans_str'\n",
    "zscot_t_df = pd.read_csv('/home/yl3427/cylab/selfCorrectionAgent/result/1118_t14_med42_v2_test_800.csv').sort_values(by=\"patient_filename\")[[\"patient_filename\", 't', 'zscot_t_ans_str']]\n",
    "rag_t_df = pd.read_csv('/home/yl3427/cylab/selfCorrectionAgent/result/1120_t14_rag_raw_med42_v2_800.csv').sort_values(by=\"patient_filename\")[[\"patient_filename\", 't', 't14_rag_raw_t_pred']]\n",
    "ltm_rag_t_df = pd.read_csv('/home/yl3427/cylab/selfCorrectionAgent/result/1128_t14_ltm_rag1_med42_v2_800.csv').sort_values(by=\"patient_filename\")[[\"patient_filename\", 't', 't14_ltm_rag1_t_pred']]\n",
    "\n",
    "run_lst = [0, 1, 2, 3, 4, 5, 6, 8]\n",
    "\n",
    "for run in run_lst:\n",
    "    t_test_df = pd.read_csv(\n",
    "        f\"/home/yl3427/cylab/selfCorrectionAgent/result/1114_t14_med42_v2_test_{run}_outof_10runs.csv\"\n",
    "    ).sort_values(by=\"patient_filename\")\n",
    "\n",
    "    kewltm_t_results.append(\n",
    "        t14_calculate_metrics(t_test_df[t_label], t_test_df[kewltm_t_stage])\n",
    "    )\n",
    "\n",
    "    split_ids = t_test_df.patient_filename\n",
    "    zscot_t_df = zscot_t_df[zscot_t_df[\"patient_filename\"].isin(split_ids)]\n",
    "    rag_t_df = rag_t_df[rag_t_df[\"patient_filename\"].isin(split_ids)]\n",
    "    ltm_rag_t_df = ltm_rag_t_df[ltm_rag_t_df[\"patient_filename\"].isin(split_ids)]\n",
    "\n",
    "    zscot_t_results.append(t14_calculate_metrics(zscot_t_df[t_label], zscot_t_df['zscot_t_ans_str']))\n",
    "    rag_t_results.append(t14_calculate_metrics(rag_t_df[t_label], rag_t_df['t14_rag_raw_t_pred']))\n",
    "    ltm_rag_t_results.append(t14_calculate_metrics(ltm_rag_t_df[t_label], ltm_rag_t_df['t14_ltm_rag1_t_pred']))\n",
    "\n",
    "print(\"ZSCoT\")\n",
    "output_tabular_performance(zscot_t_results)\n",
    "\n",
    "print(\"RAG\")\n",
    "output_tabular_performance(rag_t_results)\n",
    "\n",
    "print(\"LTM-RAG\")\n",
    "output_tabular_performance(ltm_rag_t_results)\n",
    "\n",
    "print(\"KEW-LTM\")\n",
    "output_tabular_performance(kewltm_t_results)"
   ]
  },
  {
   "cell_type": "code",
   "execution_count": null,
   "metadata": {},
   "outputs": [],
   "source": []
  },
  {
   "cell_type": "code",
   "execution_count": 1,
   "metadata": {},
   "outputs": [],
   "source": [
    "import pandas as pd\n",
    "brca_report = pd.read_csv(\n",
    "        \"/secure/shared_data/rag_tnm_results/summary/5_folds_summary/brca_df.csv\"\n",
    "    )\n",
    "df = brca_report[brca_report[\"n\"] != -1][[\"patient_filename\", \"t\", \"text\"]]"
   ]
  },
  {
   "cell_type": "code",
   "execution_count": null,
   "metadata": {},
   "outputs": [],
   "source": [
    "df = pd.read_csv(\"1221_result.csv\")\n",
    "df.columns"
   ]
  },
  {
   "cell_type": "code",
   "execution_count": null,
   "metadata": {},
   "outputs": [],
   "source": [
    "from src.metrics import *\n",
    "# t14_calculate_metrics(df['t'], df['memory_test_pred'])\n",
    "df = df[df['memory_test_parsed']]\n",
    "t14_calculate_metrics2(df['t'], df['memory_test_pred'])"
   ]
  },
  {
   "cell_type": "code",
   "execution_count": null,
   "metadata": {},
   "outputs": [],
   "source": [
    "df = pd.read_csv(\"baseline_results.csv\")\n",
    "df.columns"
   ]
  },
  {
   "cell_type": "code",
   "execution_count": null,
   "metadata": {},
   "outputs": [],
   "source": [
    "t14_calculate_metrics(df['t'], df['t14_baseline_pred'])"
   ]
  },
  {
   "cell_type": "code",
   "execution_count": null,
   "metadata": {},
   "outputs": [],
   "source": [
    "df = pd.read_csv(\"1221_result_2.csv\")\n",
    "df.columns"
   ]
  },
  {
   "cell_type": "code",
   "execution_count": null,
   "metadata": {},
   "outputs": [],
   "source": [
    "df[['t', '1221_test_pred_zs','1221_test_pred_rules', '1221_test_pred_memory_only','1221_test_pred']]\n",
    "t14_calculate_metrics(df['t'], df['1221_test_pred'])['overall']"
   ]
  },
  {
   "cell_type": "code",
   "execution_count": null,
   "metadata": {},
   "outputs": [],
   "source": [
    "t14_calculate_metrics(df['t'], df['1221_test_pred'])['overall'], t14_calculate_metrics(df['t'], df['1221_test_pred_zs'])['overall'], t14_calculate_metrics(df['t'], df['1221_test_pred_rules'])['overall'], t14_calculate_metrics(df['t'], df['1221_test_pred_memory_only'])['overall']"
   ]
  },
  {
   "cell_type": "code",
   "execution_count": null,
   "metadata": {},
   "outputs": [],
   "source": [
    "df = pd.read_csv(\"1221_result_3.csv\")[:10]\n",
    "df[['t', '1221_test_pred_zs','1221_test_pred_rules', '1221_test_pred_memory_only','1221_test_pred']]\n",
    "t14_calculate_metrics(df['t'], df['1221_test_pred'])['overall'], t14_calculate_metrics(df['t'], df['1221_test_pred_zs'])['overall'], t14_calculate_metrics(df['t'], df['1221_test_pred_rules'])['overall'], t14_calculate_metrics(df['t'], df['1221_test_pred_memory_only'])['overall']"
   ]
  },
  {
   "cell_type": "code",
   "execution_count": null,
   "metadata": {},
   "outputs": [],
   "source": [
    "df = pd.read_csv(\"1221_result_3.csv\")[10:20]\n",
    "df[['t', '1221_test_pred_zs','1221_test_pred_rules', '1221_test_pred_memory_only','1221_test_pred']]\n",
    "t14_calculate_metrics(df['t'], df['1221_test_pred'])['overall'], t14_calculate_metrics(df['t'], df['1221_test_pred_zs'])['overall'], t14_calculate_metrics(df['t'], df['1221_test_pred_rules'])['overall'], t14_calculate_metrics(df['t'], df['1221_test_pred_memory_only'])['overall']"
   ]
  },
  {
   "cell_type": "code",
   "execution_count": null,
   "metadata": {},
   "outputs": [],
   "source": [
    "df = pd.read_csv(\"1221_result_3.csv\")[20:30]\n",
    "df[['t', '1221_test_pred_zs','1221_test_pred_rules', '1221_test_pred_memory_only','1221_test_pred']]\n",
    "t14_calculate_metrics(df['t'], df['1221_test_pred'])['overall'], t14_calculate_metrics(df['t'], df['1221_test_pred_zs'])['overall'], t14_calculate_metrics(df['t'], df['1221_test_pred_rules'])['overall'], t14_calculate_metrics(df['t'], df['1221_test_pred_memory_only'])['overall']"
   ]
  },
  {
   "cell_type": "code",
   "execution_count": null,
   "metadata": {},
   "outputs": [],
   "source": [
    "df = pd.read_csv(\"1221_result_3.csv\")[30:40]\n",
    "df[['t', '1221_test_pred_zs','1221_test_pred_rules', '1221_test_pred_memory_only','1221_test_pred']]\n",
    "t14_calculate_metrics(df['t'], df['1221_test_pred'])['overall'], t14_calculate_metrics(df['t'], df['1221_test_pred_zs'])['overall'], t14_calculate_metrics(df['t'], df['1221_test_pred_rules'])['overall'], t14_calculate_metrics(df['t'], df['1221_test_pred_memory_only'])['overall']"
   ]
  },
  {
   "cell_type": "code",
   "execution_count": null,
   "metadata": {},
   "outputs": [],
   "source": [
    "df = pd.read_csv(\"1221_result_3.csv\")[40:]\n",
    "df[['t', '1221_test_pred_zs','1221_test_pred_rules', '1221_test_pred_memory_only','1221_test_pred']]\n",
    "t14_calculate_metrics(df['t'], df['1221_test_pred'])['overall'], t14_calculate_metrics(df['t'], df['1221_test_pred_zs'])['overall'], t14_calculate_metrics(df['t'], df['1221_test_pred_rules'])['overall'], t14_calculate_metrics(df['t'], df['1221_test_pred_memory_only'])['overall']"
   ]
  },
  {
   "cell_type": "code",
   "execution_count": null,
   "metadata": {},
   "outputs": [],
   "source": [
    "df = pd.read_csv(\"1221_result_mixtral.csv\")\n",
    "for i in range(0, 790, 10):\n",
    "    sub_df = df[i:i+10]\n",
    "    print(len(sub_df))"
   ]
  },
  {
   "cell_type": "code",
   "execution_count": null,
   "metadata": {},
   "outputs": [],
   "source": [
    "import pandas as pd\n",
    "from src.metrics import *\n",
    "\n",
    "data_df = pd.read_csv(\"1221_result_mixtral.csv\")\n",
    "for i in range(0, 790, 80):\n",
    "    df = data_df[i:i+80]\n",
    "    main = t14_calculate_metrics2(df['t'],df['1221_test_pred'])['overall']\n",
    "    zs = t14_calculate_metrics2(df['t'], df['1221_test_pred_zs'])['overall']\n",
    "    rules = t14_calculate_metrics2(df['t'], df['1221_test_pred_rules'])['overall']\n",
    "    memory = t14_calculate_metrics2(df['t'], df['1221_test_pred_memory_only'])['overall']\n",
    "    print(f\"macro F1: {main['macro_f1']:.3f} ({zs['macro_f1']:.3f}) ({rules['macro_f1']:.3f}) ({memory['macro_f1']:.3f})\")\n",
    "    print(f\"micro F1: {main['micro_f1']:.3f} ({zs['micro_f1']:.3f}) ({rules['micro_f1']:.3f}) ({memory['micro_f1']:.3f})\")\n",
    "    print(f\"weighted F1: {main['weighted_f1']:.3f} ({zs['weighted_f1']:.3f}) ({rules['weighted_f1']:.3f}) ({memory['weighted_f1']:.3f})\")\n",
    "    print(\"-----------------\")\n",
    "\n"
   ]
  },
  {
   "cell_type": "code",
   "execution_count": null,
   "metadata": {},
   "outputs": [],
   "source": [
    "import pandas as pd\n",
    "from src.metrics import *\n",
    "data_df = pd.read_csv(\"1222_result_llama_4_30.csv\")\n",
    "data_df.columns"
   ]
  },
  {
   "cell_type": "code",
   "execution_count": 2,
   "metadata": {},
   "outputs": [
    {
     "data": {
      "text/plain": [
       "Index(['patient_filename', 't', 'text', 'current_memory_from_llm',\n",
       "       'current_memory_from_rag', 'experiment_t_stage_pred_zs',\n",
       "       'experiment_t_stage_reasoning_zs',\n",
       "       'experiment_t_stage_pred_llm_rulesonly',\n",
       "       'experiment_t_stage_reasoning_llm_rulesonly',\n",
       "       'experiment_t_stage_pred_rag_rulesonly',\n",
       "       'experiment_t_stage_reasoning_rag_rulesonly',\n",
       "       'experiment_t_stage_pred_memonly',\n",
       "       'experiment_t_stage_reasoning_memonly',\n",
       "       'experiment_t_stage_pred_memonly2',\n",
       "       'experiment_t_stage_reasoning_memonly2',\n",
       "       'experiment_t_stage_pred_rag_only',\n",
       "       'experiment_t_stage_reasoning_rag_only',\n",
       "       'experiment_t_stage_pred_llm_mem',\n",
       "       'experiment_t_stage_reasoning_llm_mem',\n",
       "       'experiment_t_stage_pred_rag_mem',\n",
       "       'experiment_t_stage_reasoning_rag_mem', 'llm_rules', 'rag_rules',\n",
       "       'final_memory_from_llm', 'final_memory_from_rag'],\n",
       "      dtype='object')"
      ]
     },
     "execution_count": 2,
     "metadata": {},
     "output_type": "execute_result"
    }
   ],
   "source": [
    "df = pd.read_csv(\"/home/yl3427/cylab/selfCorrectionAgent/results_t_stage_run_0.csv\")\n",
    "df.columns"
   ]
  },
  {
   "cell_type": "code",
   "execution_count": null,
   "metadata": {},
   "outputs": [],
   "source": [
    "df = pd.read_csv(\"1222_result_llama_4_30.csv\")\n",
    "\n",
    "main = t14_calculate_metrics2(df['t'],df['ltm_test_pred'])['overall']\n",
    "zs = t14_calculate_metrics2(df['t'], df['ltm_test_pred_zs'])['overall']\n",
    "rules = t14_calculate_metrics2(df['t'], df['ltm_test_pred_rules'])['overall']\n",
    "memory = t14_calculate_metrics2(df['t'], df['ltm_test_pred_memory_only'])['overall']\n",
    "print(f\"macro F1: {main['macro_f1']:.3f} ({zs['macro_f1']:.3f}) ({rules['macro_f1']:.3f}) ({memory['macro_f1']:.3f})\")\n",
    "print(f\"micro F1: {main['micro_f1']:.3f} ({zs['micro_f1']:.3f}) ({rules['micro_f1']:.3f}) ({memory['micro_f1']:.3f})\")\n",
    "print(f\"weighted F1: {main['weighted_f1']:.3f} ({zs['weighted_f1']:.3f}) ({rules['weighted_f1']:.3f}) ({memory['weighted_f1']:.3f})\")\n"
   ]
  },
  {
   "cell_type": "code",
   "execution_count": null,
   "metadata": {},
   "outputs": [],
   "source": [
    "import pandas as pd\n",
    "from src.metrics import *\n",
    "\n",
    "data_df = pd.read_csv(\"1222_result_llama_4_30.csv\")\n",
    "for i in range(0, 790, 80):\n",
    "    df = data_df[i:i+80]\n",
    "    main = t14_calculate_metrics2(df['t'],df['ltm_test_pred'])['overall']\n",
    "    zs = t14_calculate_metrics2(df['t'], df['ltm_test_pred_zs'])['overall']\n",
    "    rules = t14_calculate_metrics2(df['t'], df['ltm_test_pred_rules'])['overall']\n",
    "    memory = t14_calculate_metrics2(df['t'], df['ltm_test_pred_memory_only'])['overall']\n",
    "    print(f\"macro F1: {main['macro_f1']:.3f} ({zs['macro_f1']:.3f}) ({rules['macro_f1']:.3f}) ({memory['macro_f1']:.3f})\")\n",
    "    print(f\"micro F1: {main['micro_f1']:.3f} ({zs['micro_f1']:.3f}) ({rules['micro_f1']:.3f}) ({memory['micro_f1']:.3f})\")\n",
    "    print(f\"weighted F1: {main['weighted_f1']:.3f} ({zs['weighted_f1']:.3f}) ({rules['weighted_f1']:.3f}) ({memory['weighted_f1']:.3f})\")\n",
    "    print(\"-----------------\")\n"
   ]
  },
  {
   "cell_type": "code",
   "execution_count": null,
   "metadata": {},
   "outputs": [],
   "source": [
    "import pandas as pd\n",
    "from src.metrics import *\n",
    "\n",
    "data_df = pd.read_csv(\"1222_result_llama_1_1.csv\")\n",
    "for i in range(0, 790, 80):\n",
    "    df = data_df[i:i+80]\n",
    "    main = t14_calculate_metrics2(df['t'],df['ltm_test_pred'])['overall']\n",
    "    zs = t14_calculate_metrics2(df['t'], df['ltm_test_pred_zs'])['overall']\n",
    "    rules = t14_calculate_metrics2(df['t'], df['ltm_test_pred_rules'])['overall']\n",
    "    memory = t14_calculate_metrics2(df['t'], df['ltm_test_pred_memory_only'])['overall']\n",
    "    print(f\"macro F1: {main['macro_f1']:.3f} ({zs['macro_f1']:.3f}) ({rules['macro_f1']:.3f}) ({memory['macro_f1']:.3f})\")\n",
    "    print(f\"micro F1: {main['micro_f1']:.3f} ({zs['micro_f1']:.3f}) ({rules['micro_f1']:.3f}) ({memory['micro_f1']:.3f})\")\n",
    "    print(f\"weighted F1: {main['weighted_f1']:.3f} ({zs['weighted_f1']:.3f}) ({rules['weighted_f1']:.3f}) ({memory['weighted_f1']:.3f})\")\n",
    "    print(\"-----------------\")\n"
   ]
  },
  {
   "cell_type": "code",
   "execution_count": null,
   "metadata": {},
   "outputs": [],
   "source": [
    "df = pd.read_csv(\"1222_result_llama_1_1.csv\")\n",
    "\n",
    "main = t14_calculate_metrics2(df['t'],df['ltm_test_pred'])['overall']\n",
    "zs = t14_calculate_metrics2(df['t'], df['ltm_test_pred_zs'])['overall']\n",
    "rules = t14_calculate_metrics2(df['t'], df['ltm_test_pred_rules'])['overall']\n",
    "memory = t14_calculate_metrics2(df['t'], df['ltm_test_pred_memory_only'])['overall']\n",
    "print(f\"macro F1: {main['macro_f1']:.3f} ({zs['macro_f1']:.3f}) ({rules['macro_f1']:.3f}) ({memory['macro_f1']:.3f})\")\n",
    "print(f\"micro F1: {main['micro_f1']:.3f} ({zs['micro_f1']:.3f}) ({rules['micro_f1']:.3f}) ({memory['micro_f1']:.3f})\")\n",
    "print(f\"weighted F1: {main['weighted_f1']:.3f} ({zs['weighted_f1']:.3f}) ({rules['weighted_f1']:.3f}) ({memory['weighted_f1']:.3f})\")\n"
   ]
  },
  {
   "cell_type": "code",
   "execution_count": null,
   "metadata": {},
   "outputs": [],
   "source": [
    "df = pd.read_csv(\"1223_result_mixtral_1_1.csv\")\n",
    "\n",
    "main = t14_calculate_metrics2(df['t'],df['ltm_test_pred'])['overall']\n",
    "zs = t14_calculate_metrics2(df['t'], df['ltm_test_pred_zs'])['overall']\n",
    "rules = t14_calculate_metrics2(df['t'], df['ltm_test_pred_rules'])['overall']\n",
    "memory = t14_calculate_metrics2(df['t'], df['ltm_test_pred_memory_only'])['overall']\n",
    "print(f\"macro F1: {main['macro_f1']:.3f} ({zs['macro_f1']:.3f}) ({rules['macro_f1']:.3f}) ({memory['macro_f1']:.3f})\")\n",
    "print(f\"micro F1: {main['micro_f1']:.3f} ({zs['micro_f1']:.3f}) ({rules['micro_f1']:.3f}) ({memory['micro_f1']:.3f})\")\n",
    "print(f\"weighted F1: {main['weighted_f1']:.3f} ({zs['weighted_f1']:.3f}) ({rules['weighted_f1']:.3f}) ({memory['weighted_f1']:.3f})\")\n"
   ]
  },
  {
   "cell_type": "code",
   "execution_count": null,
   "metadata": {},
   "outputs": [],
   "source": [
    "df = pd.read_csv(\"/home/yl3427/cylab/selfCorrectionAgent/result_t/1223_result_llama_1_1_increased_model_len_65536_full.csv\")\n",
    "\n",
    "main = t14_calculate_metrics2(df['t'],df['ltm_test_pred'])['overall']\n",
    "zs = t14_calculate_metrics2(df['t'], df['ltm_test_pred_zs'])['overall']\n",
    "rules = t14_calculate_metrics2(df['t'], df['ltm_test_pred_rules'])['overall']\n",
    "memory = t14_calculate_metrics2(df['t'], df['ltm_test_pred_memory_only'])['overall']\n",
    "print(f\"macro F1: {main['macro_f1']:.3f} ({zs['macro_f1']:.3f}) ({rules['macro_f1']:.3f}) ({memory['macro_f1']:.3f})\")\n",
    "print(f\"micro F1: {main['micro_f1']:.3f} ({zs['micro_f1']:.3f}) ({rules['micro_f1']:.3f}) ({memory['micro_f1']:.3f})\")\n",
    "print(f\"weighted F1: {main['weighted_f1']:.3f} ({zs['weighted_f1']:.3f}) ({rules['weighted_f1']:.3f}) ({memory['weighted_f1']:.3f})\")\n"
   ]
  },
  {
   "cell_type": "code",
   "execution_count": null,
   "metadata": {},
   "outputs": [],
   "source": [
    "main"
   ]
  },
  {
   "cell_type": "code",
   "execution_count": null,
   "metadata": {},
   "outputs": [],
   "source": [
    "zs"
   ]
  },
  {
   "cell_type": "code",
   "execution_count": null,
   "metadata": {},
   "outputs": [],
   "source": [
    "rules"
   ]
  },
  {
   "cell_type": "code",
   "execution_count": 2,
   "metadata": {},
   "outputs": [
    {
     "name": "stdout",
     "output_type": "stream",
     "text": [
      "main_1: 0.81, 0.869, 0.859\n",
      "main_2: 0.858, 0.89, 0.889\n",
      "zs: 0.839, 0.889, 0.883\n",
      "rules_1: 0.779, 0.858, 0.841\n",
      "rules_2: 0.848, 0.886, 0.885\n",
      "memory_1: 0.84, 0.887, 0.882\n",
      "memory_2: 0.839, 0.887, 0.882\n",
      "rag: 0.867, 0.899, 0.897\n"
     ]
    }
   ],
   "source": [
    "df = pd.read_csv(\"/home/yl3427/cylab/selfCorrectionAgent/results_n_stage_run_0.csv\")\n",
    "main_1 = 'experiment_n_stage_pred_llm_mem'\n",
    "main_2 = 'experiment_n_stage_pred_rag_mem'\n",
    "zs = 'experiment_n_stage_pred_zs'\n",
    "rules_1 = 'experiment_n_stage_pred_llm_rulesonly'\n",
    "rules_2 = 'experiment_n_stage_pred_rag_rulesonly'\n",
    "memory_1 = 'experiment_n_stage_pred_memonly'\n",
    "memory_2 = 'experiment_n_stage_pred_memonly2'\n",
    "rag = 'experiment_n_stage_pred_rag_only'\n",
    "\n",
    "main_1 = n03_calculate_metrics2(df['n'],df[main_1])['overall']\n",
    "main_2 = n03_calculate_metrics2(df['n'],df[main_2])['overall']\n",
    "zs = n03_calculate_metrics2(df['n'], df[zs])['overall']\n",
    "rules_1 = n03_calculate_metrics2(df['n'], df[rules_1])['overall']\n",
    "rules_2 = n03_calculate_metrics2(df['n'], df[rules_2])['overall']\n",
    "memory_1 = n03_calculate_metrics2(df['n'], df[memory_1])['overall']\n",
    "memory_2 = n03_calculate_metrics2(df['n'], df[memory_2])['overall']\n",
    "rag = n03_calculate_metrics2(df['n'], df[rag])['overall']\n",
    "\n",
    "print(f\"main_1: {main_1['macro_f1']}, {main_1['micro_f1']}, {main_1['weighted_f1']}\")\n",
    "print(f\"main_2: {main_2['macro_f1']}, {main_2['micro_f1']}, {main_2['weighted_f1']}\")\n",
    "print(f\"zs: {zs['macro_f1']}, {zs['micro_f1']}, {zs['weighted_f1']}\")\n",
    "print(f\"rules_1: {rules_1['macro_f1']}, {rules_1['micro_f1']}, {rules_1['weighted_f1']}\")\n",
    "print(f\"rules_2: {rules_2['macro_f1']}, {rules_2['micro_f1']}, {rules_2['weighted_f1']}\")\n",
    "print(f\"memory_1: {memory_1['macro_f1']}, {memory_1['micro_f1']}, {memory_1['weighted_f1']}\")\n",
    "print(f\"memory_2: {memory_2['macro_f1']}, {memory_2['micro_f1']}, {memory_2['weighted_f1']}\")\n",
    "print(f\"rag: {rag['macro_f1']}, {rag['micro_f1']}, {rag['weighted_f1']}\")"
   ]
  },
  {
   "cell_type": "code",
   "execution_count": 2,
   "metadata": {},
   "outputs": [
    {
     "name": "stdout",
     "output_type": "stream",
     "text": [
      "| Method   |   Macro F1 |   Micro F1 |   Weighted F1 |\n",
      "|----------|------------|------------|---------------|\n",
      "| main_1   |     0.4440 |     0.8000 |        0.7340 |\n",
      "| main_2   |     0.7830 |     0.9000 |        0.8890 |\n",
      "| zs       |     0.7210 |     0.8750 |        0.8690 |\n",
      "| rules_1  |     0.4580 |     0.8250 |        0.7570 |\n",
      "| rules_2  |     0.7830 |     0.9000 |        0.8890 |\n",
      "| memory_1 |     0.6220 |     0.8250 |        0.8190 |\n",
      "| memory_2 |     0.5980 |     0.8000 |        0.8000 |\n",
      "| rag      |     0.8650 |     0.9250 |        0.9230 |\n",
      "| Method   |   Macro F1 |   Micro F1 |   Weighted F1 |\n",
      "|----------|------------|------------|---------------|\n",
      "| main_1   |     0.6970 |     0.8750 |        0.8410 |\n",
      "| main_2   |     0.8910 |     0.9000 |        0.8970 |\n",
      "| zs       |     0.8960 |     0.9000 |        0.8990 |\n",
      "| rules_1  |     0.6660 |     0.8500 |        0.8150 |\n",
      "| rules_2  |     0.8910 |     0.9000 |        0.8970 |\n",
      "| memory_1 |     0.8290 |     0.9000 |        0.8890 |\n",
      "| memory_2 |     0.9110 |     0.9250 |        0.9230 |\n",
      "| rag      |     0.9240 |     0.9250 |        0.9240 |\n",
      "| Method   |   Macro F1 |   Micro F1 |   Weighted F1 |\n",
      "|----------|------------|------------|---------------|\n",
      "| main_1   |     0.8580 |     0.9000 |        0.8880 |\n",
      "| main_2   |     0.8130 |     0.8750 |        0.8640 |\n",
      "| zs       |     0.8110 |     0.8750 |        0.8530 |\n",
      "| rules_1  |     0.6850 |     0.8250 |        0.7600 |\n",
      "| rules_2  |     0.8130 |     0.8750 |        0.8640 |\n",
      "| memory_1 |     0.8710 |     0.9000 |        0.8960 |\n",
      "| memory_2 |     0.8110 |     0.8750 |        0.8530 |\n",
      "| rag      |     0.9070 |     0.9250 |        0.9240 |\n",
      "| Method   |   Macro F1 |   Micro F1 |   Weighted F1 |\n",
      "|----------|------------|------------|---------------|\n",
      "| main_1   |     0.8860 |     0.9000 |        0.8930 |\n",
      "| main_2   |     0.7850 |     0.8000 |        0.7990 |\n",
      "| zs       |     0.8340 |     0.8750 |        0.8730 |\n",
      "| rules_1  |     0.9090 |     0.9250 |        0.9160 |\n",
      "| rules_2  |     0.8420 |     0.8750 |        0.8690 |\n",
      "| memory_1 |     0.8340 |     0.8750 |        0.8730 |\n",
      "| memory_2 |     0.8100 |     0.8500 |        0.8480 |\n",
      "| rag      |     0.8070 |     0.8500 |        0.8460 |\n",
      "| Method   |   Macro F1 |   Micro F1 |   Weighted F1 |\n",
      "|----------|------------|------------|---------------|\n",
      "| main_1   |     0.7510 |     0.8500 |        0.8340 |\n",
      "| main_2   |     0.7990 |     0.8750 |        0.8750 |\n",
      "| zs       |     0.8150 |     0.9000 |        0.8900 |\n",
      "| rules_1  |     0.7510 |     0.8500 |        0.8340 |\n",
      "| rules_2  |     0.7990 |     0.8750 |        0.8750 |\n",
      "| memory_1 |     0.8150 |     0.9000 |        0.8900 |\n",
      "| memory_2 |     0.8680 |     0.9250 |        0.9200 |\n",
      "| rag      |     0.8910 |     0.9250 |        0.9240 |\n",
      "| Method   |   Macro F1 |   Micro F1 |   Weighted F1 |\n",
      "|----------|------------|------------|---------------|\n",
      "| main_1   |     0.7480 |     0.8250 |        0.8200 |\n",
      "| main_2   |     0.7870 |     0.8500 |        0.8450 |\n",
      "| zs       |     0.7760 |     0.8500 |        0.8490 |\n",
      "| rules_1  |     0.6820 |     0.8000 |        0.7880 |\n",
      "| rules_2  |     0.7870 |     0.8500 |        0.8450 |\n",
      "| memory_1 |     0.7760 |     0.8500 |        0.8320 |\n",
      "| memory_2 |     0.7760 |     0.8500 |        0.8320 |\n",
      "| rag      |     0.7870 |     0.8500 |        0.8450 |\n",
      "| Method   |   Macro F1 |   Micro F1 |   Weighted F1 |\n",
      "|----------|------------|------------|---------------|\n",
      "| main_1   |     0.8870 |     0.9000 |        0.8890 |\n",
      "| main_2   |     0.8690 |     0.9000 |        0.8960 |\n",
      "| zs       |     0.8580 |     0.9000 |        0.8890 |\n",
      "| rules_1  |     0.8080 |     0.8500 |        0.8170 |\n",
      "| rules_2  |     0.8230 |     0.8750 |        0.8680 |\n",
      "| memory_1 |     0.8970 |     0.9000 |        0.8960 |\n",
      "| memory_2 |     0.8660 |     0.8750 |        0.8660 |\n",
      "| rag      |     0.8690 |     0.9000 |        0.8960 |\n",
      "| Method   |   Macro F1 |   Micro F1 |   Weighted F1 |\n",
      "|----------|------------|------------|---------------|\n",
      "| main_1   |     0.7780 |     0.8750 |        0.8660 |\n",
      "| main_2   |     0.9300 |     0.9250 |        0.9230 |\n",
      "| zs       |     0.9690 |     0.9500 |        0.9490 |\n",
      "| rules_1  |     0.7780 |     0.8750 |        0.8660 |\n",
      "| rules_2  |     0.8870 |     0.9000 |        0.8970 |\n",
      "| memory_1 |     0.9250 |     0.9250 |        0.9230 |\n",
      "| memory_2 |     0.9690 |     0.9500 |        0.9490 |\n",
      "| rag      |     0.9300 |     0.9250 |        0.9230 |\n",
      "| Method   |   Macro F1 |   Micro F1 |   Weighted F1 |\n",
      "|----------|------------|------------|---------------|\n",
      "| main_1   |     0.9060 |     0.9500 |        0.9490 |\n",
      "| main_2   |     0.8760 |     0.9250 |        0.9240 |\n",
      "| zs       |     0.9060 |     0.9500 |        0.9490 |\n",
      "| rules_1  |     0.8700 |     0.9250 |        0.9220 |\n",
      "| rules_2  |     0.8610 |     0.9250 |        0.9260 |\n",
      "| memory_1 |     0.8700 |     0.9250 |        0.9220 |\n",
      "| memory_2 |     0.9060 |     0.9500 |        0.9490 |\n",
      "| rag      |     0.9060 |     0.9500 |        0.9490 |\n",
      "| Method   |   Macro F1 |   Micro F1 |   Weighted F1 |\n",
      "|----------|------------|------------|---------------|\n",
      "| main_1   |     0.7710 |     0.8500 |        0.8260 |\n",
      "| main_2   |     0.9560 |     0.9750 |        0.9740 |\n",
      "| zs       |     0.7420 |     0.8250 |        0.8040 |\n",
      "| rules_1  |     0.7210 |     0.8250 |        0.7810 |\n",
      "| rules_2  |     0.8650 |     0.9000 |        0.8980 |\n",
      "| memory_1 |     0.8140 |     0.8750 |        0.8610 |\n",
      "| memory_2 |     0.8140 |     0.8750 |        0.8610 |\n",
      "| rag      |     0.8400 |     0.9000 |        0.8960 |\n",
      "| Method   |   Macro F1 |   Micro F1 |   Weighted F1 |\n",
      "|----------|------------|------------|---------------|\n",
      "| main_1   |     0.8020 |     0.8250 |        0.8220 |\n",
      "| main_2   |     0.8320 |     0.8500 |        0.8510 |\n",
      "| zs       |     0.8520 |     0.8750 |        0.8740 |\n",
      "| rules_1  |     0.8270 |     0.8500 |        0.8470 |\n",
      "| rules_2  |     0.8600 |     0.8750 |        0.8750 |\n",
      "| memory_1 |     0.8520 |     0.8750 |        0.8740 |\n",
      "| memory_2 |     0.8500 |     0.8750 |        0.8770 |\n",
      "| rag      |     0.8600 |     0.8750 |        0.8750 |\n",
      "| Method   |   Macro F1 |   Micro F1 |   Weighted F1 |\n",
      "|----------|------------|------------|---------------|\n",
      "| main_1   |     0.9150 |     0.9250 |        0.9260 |\n",
      "| main_2   |     0.8740 |     0.9000 |        0.9060 |\n",
      "| zs       |     0.9150 |     0.9250 |        0.9260 |\n",
      "| rules_1  |     0.9150 |     0.9250 |        0.9260 |\n",
      "| rules_2  |     0.8740 |     0.9000 |        0.9060 |\n",
      "| memory_1 |     0.8330 |     0.9000 |        0.9000 |\n",
      "| memory_2 |     0.9720 |     0.9500 |        0.9500 |\n",
      "| rag      |     0.8740 |     0.9000 |        0.9060 |\n",
      "| Method   |   Macro F1 |   Micro F1 |   Weighted F1 |\n",
      "|----------|------------|------------|---------------|\n",
      "| main_1   |     0.7880 |     0.8500 |        0.8290 |\n",
      "| main_2   |     0.9170 |     0.9250 |        0.9260 |\n",
      "| zs       |     0.8230 |     0.8750 |        0.8620 |\n",
      "| rules_1  |     0.7880 |     0.8500 |        0.8290 |\n",
      "| rules_2  |     0.9170 |     0.9250 |        0.9260 |\n",
      "| memory_1 |     0.7760 |     0.8500 |        0.8260 |\n",
      "| memory_2 |     0.8340 |     0.8750 |        0.8650 |\n",
      "| rag      |     0.8820 |     0.9000 |        0.9040 |\n",
      "| Method   |   Macro F1 |   Micro F1 |   Weighted F1 |\n",
      "|----------|------------|------------|---------------|\n",
      "| main_1   |     0.6540 |     0.7750 |        0.7390 |\n",
      "| main_2   |     0.7630 |     0.8250 |        0.8150 |\n",
      "| zs       |     0.7510 |     0.8250 |        0.8060 |\n",
      "| rules_1  |     0.6110 |     0.7750 |        0.7160 |\n",
      "| rules_2  |     0.7630 |     0.8250 |        0.8150 |\n",
      "| memory_1 |     0.7510 |     0.8250 |        0.8060 |\n",
      "| memory_2 |     0.7140 |     0.8000 |        0.7820 |\n",
      "| rag      |     0.7510 |     0.8250 |        0.8060 |\n",
      "| Method   |   Macro F1 |   Micro F1 |   Weighted F1 |\n",
      "|----------|------------|------------|---------------|\n",
      "| main_1   |     0.8350 |     0.8750 |        0.8700 |\n",
      "| main_2   |     0.9040 |     0.9000 |        0.8990 |\n",
      "| zs       |     0.8600 |     0.8750 |        0.8750 |\n",
      "| rules_1  |     0.8500 |     0.9000 |        0.8920 |\n",
      "| rules_2  |     0.8600 |     0.8750 |        0.8750 |\n",
      "| memory_1 |     0.8600 |     0.8750 |        0.8750 |\n",
      "| memory_2 |     0.9040 |     0.9000 |        0.8990 |\n",
      "| rag      |     0.8390 |     0.8750 |        0.8780 |\n",
      "| Method   |   Macro F1 |   Micro F1 |   Weighted F1 |\n",
      "|----------|------------|------------|---------------|\n",
      "| main_1   |     0.9070 |     0.9250 |        0.9250 |\n",
      "| main_2   |     0.9080 |     0.9250 |        0.9260 |\n",
      "| zs       |     0.8880 |     0.9250 |        0.9190 |\n",
      "| rules_1  |     0.8530 |     0.9000 |        0.8950 |\n",
      "| rules_2  |     0.9420 |     0.9500 |        0.9490 |\n",
      "| memory_1 |     0.9420 |     0.9500 |        0.9490 |\n",
      "| memory_2 |     0.8880 |     0.9250 |        0.9190 |\n",
      "| rag      |     0.9420 |     0.9500 |        0.9490 |\n",
      "| Method   |   Macro F1 |   Micro F1 |   Weighted F1 |\n",
      "|----------|------------|------------|---------------|\n",
      "| main_1   |     0.8700 |     0.9000 |        0.8960 |\n",
      "| main_2   |     0.8820 |     0.9000 |        0.9000 |\n",
      "| zs       |     0.8700 |     0.9000 |        0.8960 |\n",
      "| rules_1  |     0.7540 |     0.8500 |        0.8220 |\n",
      "| rules_2  |     0.9120 |     0.9250 |        0.9250 |\n",
      "| memory_1 |     0.9120 |     0.9250 |        0.9250 |\n",
      "| memory_2 |     0.9120 |     0.9250 |        0.9250 |\n",
      "| rag      |     0.8820 |     0.9000 |        0.9000 |\n",
      "| Method   |   Macro F1 |   Micro F1 |   Weighted F1 |\n",
      "|----------|------------|------------|---------------|\n",
      "| main_1   |     0.8970 |     0.9000 |        0.8980 |\n",
      "| main_2   |     0.9390 |     0.9000 |        0.9000 |\n",
      "| zs       |     0.8770 |     0.9000 |        0.8990 |\n",
      "| rules_1  |     0.8160 |     0.8750 |        0.8650 |\n",
      "| rules_2  |     0.8460 |     0.8500 |        0.8490 |\n",
      "| memory_1 |     0.8770 |     0.9000 |        0.8990 |\n",
      "| memory_2 |     0.8100 |     0.9000 |        0.8900 |\n",
      "| rag      |     0.8620 |     0.8750 |        0.8740 |\n",
      "| Method   |   Macro F1 |   Micro F1 |   Weighted F1 |\n",
      "|----------|------------|------------|---------------|\n",
      "| main_1   |     0.5330 |     0.8250 |        0.7830 |\n",
      "| main_2   |     0.7420 |     0.8500 |        0.8570 |\n",
      "| zs       |     0.7630 |     0.8750 |        0.8630 |\n",
      "| rules_1  |     0.5330 |     0.8250 |        0.7830 |\n",
      "| rules_2  |     0.7420 |     0.8500 |        0.8570 |\n",
      "| memory_1 |     0.7630 |     0.8750 |        0.8630 |\n",
      "| memory_2 |     0.5910 |     0.8500 |        0.8200 |\n",
      "| rag      |     0.7750 |     0.8750 |        0.8770 |\n",
      "| Method   |   Macro F1 |   Micro F1 |   Weighted F1 |\n",
      "|----------|------------|------------|---------------|\n",
      "| main_1   |     0.8630 |     0.8500 |        0.8440 |\n",
      "| main_2   |     0.8370 |     0.9000 |        0.9010 |\n",
      "| zs       |     0.8330 |     0.9000 |        0.8970 |\n",
      "| rules_1  |     0.8560 |     0.8500 |        0.8370 |\n",
      "| rules_2  |     0.8120 |     0.8750 |        0.8730 |\n",
      "| memory_1 |     0.9090 |     0.9000 |        0.8960 |\n",
      "| memory_2 |     0.8910 |     0.8750 |        0.8710 |\n",
      "| rag      |     0.9340 |     0.9250 |        0.9250 |\n"
     ]
    }
   ],
   "source": [
    "from tabulate import tabulate\n",
    "\n",
    "full_df = pd.read_csv(\"/home/yl3427/cylab/selfCorrectionAgent/results_n_stage_run_0.csv\")\n",
    "for i in range(0, 790, 40):\n",
    "    df = full_df[i:i+40]\n",
    "\n",
    "    main_1 = 'experiment_n_stage_pred_llm_mem'\n",
    "    main_2 = 'experiment_n_stage_pred_rag_mem'\n",
    "    zs = 'experiment_n_stage_pred_zs'\n",
    "    rules_1 = 'experiment_n_stage_pred_llm_rulesonly'\n",
    "    rules_2 = 'experiment_n_stage_pred_rag_rulesonly'\n",
    "    memory_1 = 'experiment_n_stage_pred_memonly'\n",
    "    memory_2 = 'experiment_n_stage_pred_memonly2'\n",
    "    rag = 'experiment_n_stage_pred_rag_only'\n",
    "\n",
    "    main_1 = n03_calculate_metrics2(df['n'],df[main_1])['overall']\n",
    "    main_2 = n03_calculate_metrics2(df['n'],df[main_2])['overall']\n",
    "    zs = n03_calculate_metrics2(df['n'], df[zs])['overall']\n",
    "    rules_1 = n03_calculate_metrics2(df['n'], df[rules_1])['overall']\n",
    "    rules_2 = n03_calculate_metrics2(df['n'], df[rules_2])['overall']\n",
    "    memory_1 = n03_calculate_metrics2(df['n'], df[memory_1])['overall']\n",
    "    memory_2 = n03_calculate_metrics2(df['n'], df[memory_2])['overall']\n",
    "    rag = n03_calculate_metrics2(df['n'], df[rag])['overall']\n",
    "\n",
    "    table_data = [\n",
    "        [\"main_1\",   main_1['macro_f1'],   main_1['micro_f1'],   main_1['weighted_f1']],\n",
    "        [\"main_2\",   main_2['macro_f1'],   main_2['micro_f1'],   main_2['weighted_f1']],\n",
    "        [\"zs\",       zs['macro_f1'],       zs['micro_f1'],       zs['weighted_f1']],\n",
    "        [\"rules_1\",  rules_1['macro_f1'],  rules_1['micro_f1'],  rules_1['weighted_f1']],\n",
    "        [\"rules_2\",  rules_2['macro_f1'],  rules_2['micro_f1'],  rules_2['weighted_f1']],\n",
    "        [\"memory_1\", memory_1['macro_f1'], memory_1['micro_f1'], memory_1['weighted_f1']],\n",
    "        [\"memory_2\", memory_2['macro_f1'], memory_2['micro_f1'], memory_2['weighted_f1']],\n",
    "        [\"rag\",      rag['macro_f1'],      rag['micro_f1'],      rag['weighted_f1']],\n",
    "    ]\n",
    "\n",
    "    print(tabulate(\n",
    "        table_data,\n",
    "        headers=[\"Method\", \"Macro F1\", \"Micro F1\", \"Weighted F1\"],\n",
    "        floatfmt=\".4f\",  # 4 decimal places\n",
    "        tablefmt=\"github\"\n",
    "    ))\n"
   ]
  },
  {
   "cell_type": "code",
   "execution_count": 3,
   "metadata": {},
   "outputs": [
    {
     "name": "stdout",
     "output_type": "stream",
     "text": [
      "main_1: 0.813, 0.869, 0.861\n",
      "main_2: 0.858, 0.896, 0.895\n",
      "zs: 0.84, 0.889, 0.883\n",
      "rules_1: 0.782, 0.858, 0.841\n",
      "rules_2: 0.841, 0.881, 0.878\n",
      "memory_1: 0.834, 0.886, 0.88\n",
      "memory_2: 0.847, 0.891, 0.886\n",
      "rag: 0.865, 0.897, 0.896\n"
     ]
    }
   ],
   "source": [
    "df = pd.read_csv(\"/home/yl3427/cylab/selfCorrectionAgent/results_n_stage_run_4.csv\")\n",
    "main_1 = 'experiment_n_stage_pred_llm_mem'\n",
    "main_2 = 'experiment_n_stage_pred_rag_mem'\n",
    "zs = 'experiment_n_stage_pred_zs'\n",
    "rules_1 = 'experiment_n_stage_pred_llm_rulesonly'\n",
    "rules_2 = 'experiment_n_stage_pred_rag_rulesonly'\n",
    "memory_1 = 'experiment_n_stage_pred_memonly'\n",
    "memory_2 = 'experiment_n_stage_pred_memonly2'\n",
    "rag = 'experiment_n_stage_pred_rag_only'\n",
    "\n",
    "main_1 = n03_calculate_metrics2(df['n'],df[main_1])['overall']\n",
    "main_2 = n03_calculate_metrics2(df['n'],df[main_2])['overall']\n",
    "zs = n03_calculate_metrics2(df['n'], df[zs])['overall']\n",
    "rules_1 = n03_calculate_metrics2(df['n'], df[rules_1])['overall']\n",
    "rules_2 = n03_calculate_metrics2(df['n'], df[rules_2])['overall']\n",
    "memory_1 = n03_calculate_metrics2(df['n'], df[memory_1])['overall']\n",
    "memory_2 = n03_calculate_metrics2(df['n'], df[memory_2])['overall']\n",
    "rag = n03_calculate_metrics2(df['n'], df[rag])['overall']\n",
    "\n",
    "print(f\"main_1: {main_1['macro_f1']}, {main_1['micro_f1']}, {main_1['weighted_f1']}\")\n",
    "print(f\"main_2: {main_2['macro_f1']}, {main_2['micro_f1']}, {main_2['weighted_f1']}\")\n",
    "print(f\"zs: {zs['macro_f1']}, {zs['micro_f1']}, {zs['weighted_f1']}\")\n",
    "print(f\"rules_1: {rules_1['macro_f1']}, {rules_1['micro_f1']}, {rules_1['weighted_f1']}\")\n",
    "print(f\"rules_2: {rules_2['macro_f1']}, {rules_2['micro_f1']}, {rules_2['weighted_f1']}\")\n",
    "print(f\"memory_1: {memory_1['macro_f1']}, {memory_1['micro_f1']}, {memory_1['weighted_f1']}\")\n",
    "print(f\"memory_2: {memory_2['macro_f1']}, {memory_2['micro_f1']}, {memory_2['weighted_f1']}\")\n",
    "print(f\"rag: {rag['macro_f1']}, {rag['micro_f1']}, {rag['weighted_f1']}\")"
   ]
  },
  {
   "cell_type": "code",
   "execution_count": 4,
   "metadata": {},
   "outputs": [
    {
     "name": "stdout",
     "output_type": "stream",
     "text": [
      "main_1: 0.772, 0.866, 0.871\n",
      "main_2: 0.659, 0.751, 0.747\n",
      "zs: 0.756, 0.837, 0.838\n",
      "rules_1: 0.769, 0.862, 0.869\n",
      "rules_2: 0.65, 0.748, 0.746\n",
      "memory_1: 0.723, 0.819, 0.819\n",
      "memory_2: 0.711, 0.803, 0.803\n",
      "rag: 0.712, 0.809, 0.805\n"
     ]
    }
   ],
   "source": [
    "df = pd.read_csv(\"/home/yl3427/cylab/selfCorrectionAgent/results_t_stage_run_0.csv\")\n",
    "main_1 = 'experiment_t_stage_pred_llm_mem'\n",
    "main_2 = 'experiment_t_stage_pred_rag_mem'\n",
    "zs = 'experiment_t_stage_pred_zs'\n",
    "rules_1 = 'experiment_t_stage_pred_llm_rulesonly'\n",
    "rules_2 = 'experiment_t_stage_pred_rag_rulesonly'\n",
    "memory_1 = 'experiment_t_stage_pred_memonly'\n",
    "memory_2 = 'experiment_t_stage_pred_memonly2'\n",
    "rag = 'experiment_t_stage_pred_rag_only'\n",
    "\n",
    "main_1 = t14_calculate_metrics2(df['t'],df[main_1])['overall']\n",
    "main_2 = t14_calculate_metrics2(df['t'],df[main_2])['overall']\n",
    "zs = t14_calculate_metrics2(df['t'], df[zs])['overall']\n",
    "rules_1 = t14_calculate_metrics2(df['t'], df[rules_1])['overall']\n",
    "rules_2 = t14_calculate_metrics2(df['t'], df[rules_2])['overall']\n",
    "memory_1 = t14_calculate_metrics2(df['t'], df[memory_1])['overall']\n",
    "memory_2 = t14_calculate_metrics2(df['t'], df[memory_2])['overall']\n",
    "rag = t14_calculate_metrics2(df['t'], df[rag])['overall']\n",
    "\n",
    "print(f\"main_1: {main_1['macro_f1']}, {main_1['micro_f1']}, {main_1['weighted_f1']}\")\n",
    "print(f\"main_2: {main_2['macro_f1']}, {main_2['micro_f1']}, {main_2['weighted_f1']}\")\n",
    "print(f\"zs: {zs['macro_f1']}, {zs['micro_f1']}, {zs['weighted_f1']}\")\n",
    "print(f\"rules_1: {rules_1['macro_f1']}, {rules_1['micro_f1']}, {rules_1['weighted_f1']}\")\n",
    "print(f\"rules_2: {rules_2['macro_f1']}, {rules_2['micro_f1']}, {rules_2['weighted_f1']}\")\n",
    "print(f\"memory_1: {memory_1['macro_f1']}, {memory_1['micro_f1']}, {memory_1['weighted_f1']}\")\n",
    "print(f\"memory_2: {memory_2['macro_f1']}, {memory_2['micro_f1']}, {memory_2['weighted_f1']}\")\n",
    "print(f\"rag: {rag['macro_f1']}, {rag['micro_f1']}, {rag['weighted_f1']}\")\n"
   ]
  },
  {
   "cell_type": "code",
   "execution_count": 5,
   "metadata": {},
   "outputs": [
    {
     "name": "stdout",
     "output_type": "stream",
     "text": [
      "main_1: 0.757, 0.855, 0.86\n",
      "main_2: 0.682, 0.763, 0.758\n",
      "zs: 0.75, 0.83, 0.831\n",
      "rules_1: 0.767, 0.859, 0.865\n",
      "rules_2: 0.66, 0.758, 0.756\n",
      "memory_1: 0.716, 0.809, 0.809\n",
      "memory_2: 0.712, 0.812, 0.809\n",
      "rag: 0.718, 0.812, 0.809\n"
     ]
    }
   ],
   "source": [
    "df = pd.read_csv(\"/home/yl3427/cylab/selfCorrectionAgent/results_t_stage_run_1.csv\")\n",
    "main_1 = 'experiment_t_stage_pred_llm_mem'\n",
    "main_2 = 'experiment_t_stage_pred_rag_mem'\n",
    "zs = 'experiment_t_stage_pred_zs'\n",
    "rules_1 = 'experiment_t_stage_pred_llm_rulesonly'\n",
    "rules_2 = 'experiment_t_stage_pred_rag_rulesonly'\n",
    "memory_1 = 'experiment_t_stage_pred_memonly'\n",
    "memory_2 = 'experiment_t_stage_pred_memonly2'\n",
    "rag = 'experiment_t_stage_pred_rag_only'\n",
    "\n",
    "main_1 = t14_calculate_metrics2(df['t'],df[main_1])['overall']\n",
    "main_2 = t14_calculate_metrics2(df['t'],df[main_2])['overall']\n",
    "zs = t14_calculate_metrics2(df['t'], df[zs])['overall']\n",
    "rules_1 = t14_calculate_metrics2(df['t'], df[rules_1])['overall']\n",
    "rules_2 = t14_calculate_metrics2(df['t'], df[rules_2])['overall']\n",
    "memory_1 = t14_calculate_metrics2(df['t'], df[memory_1])['overall']\n",
    "memory_2 = t14_calculate_metrics2(df['t'], df[memory_2])['overall']\n",
    "rag = t14_calculate_metrics2(df['t'], df[rag])['overall']\n",
    "\n",
    "print(f\"main_1: {main_1['macro_f1']}, {main_1['micro_f1']}, {main_1['weighted_f1']}\")\n",
    "print(f\"main_2: {main_2['macro_f1']}, {main_2['micro_f1']}, {main_2['weighted_f1']}\")\n",
    "print(f\"zs: {zs['macro_f1']}, {zs['micro_f1']}, {zs['weighted_f1']}\")\n",
    "print(f\"rules_1: {rules_1['macro_f1']}, {rules_1['micro_f1']}, {rules_1['weighted_f1']}\")\n",
    "print(f\"rules_2: {rules_2['macro_f1']}, {rules_2['micro_f1']}, {rules_2['weighted_f1']}\")\n",
    "print(f\"memory_1: {memory_1['macro_f1']}, {memory_1['micro_f1']}, {memory_1['weighted_f1']}\")\n",
    "print(f\"memory_2: {memory_2['macro_f1']}, {memory_2['micro_f1']}, {memory_2['weighted_f1']}\")\n",
    "print(f\"rag: {rag['macro_f1']}, {rag['micro_f1']}, {rag['weighted_f1']}\")\n"
   ]
  },
  {
   "cell_type": "code",
   "execution_count": 2,
   "metadata": {},
   "outputs": [
    {
     "name": "stdout",
     "output_type": "stream",
     "text": [
      "main_1: 0.769, 0.862, 0.868\n",
      "main_2: 0.684, 0.767, 0.764\n",
      "zs: 0.767, 0.842, 0.842\n",
      "rules_1: 0.768, 0.86, 0.866\n",
      "rules_2: 0.658, 0.755, 0.753\n",
      "memory_1: 0.735, 0.821, 0.822\n",
      "memory_2: 0.705, 0.808, 0.81\n",
      "rag: 0.713, 0.809, 0.805\n"
     ]
    }
   ],
   "source": [
    "df = pd.read_csv(\"/home/yl3427/cylab/selfCorrectionAgent/results_t_stage_run_2.csv\")\n",
    "main_1 = 'experiment_t_stage_pred_llm_mem'\n",
    "main_2 = 'experiment_t_stage_pred_rag_mem'\n",
    "zs = 'experiment_t_stage_pred_zs'\n",
    "rules_1 = 'experiment_t_stage_pred_llm_rulesonly'\n",
    "rules_2 = 'experiment_t_stage_pred_rag_rulesonly'\n",
    "memory_1 = 'experiment_t_stage_pred_memonly'\n",
    "memory_2 = 'experiment_t_stage_pred_memonly2'\n",
    "rag = 'experiment_t_stage_pred_rag_only'\n",
    "\n",
    "main_1 = t14_calculate_metrics2(df['t'],df[main_1])['overall']\n",
    "main_2 = t14_calculate_metrics2(df['t'],df[main_2])['overall']\n",
    "zs = t14_calculate_metrics2(df['t'], df[zs])['overall']\n",
    "rules_1 = t14_calculate_metrics2(df['t'], df[rules_1])['overall']\n",
    "rules_2 = t14_calculate_metrics2(df['t'], df[rules_2])['overall']\n",
    "memory_1 = t14_calculate_metrics2(df['t'], df[memory_1])['overall']\n",
    "memory_2 = t14_calculate_metrics2(df['t'], df[memory_2])['overall']\n",
    "rag = t14_calculate_metrics2(df['t'], df[rag])['overall']\n",
    "\n",
    "print(f\"main_1: {main_1['macro_f1']}, {main_1['micro_f1']}, {main_1['weighted_f1']}\")\n",
    "print(f\"main_2: {main_2['macro_f1']}, {main_2['micro_f1']}, {main_2['weighted_f1']}\")\n",
    "print(f\"zs: {zs['macro_f1']}, {zs['micro_f1']}, {zs['weighted_f1']}\")\n",
    "print(f\"rules_1: {rules_1['macro_f1']}, {rules_1['micro_f1']}, {rules_1['weighted_f1']}\")\n",
    "print(f\"rules_2: {rules_2['macro_f1']}, {rules_2['micro_f1']}, {rules_2['weighted_f1']}\")\n",
    "print(f\"memory_1: {memory_1['macro_f1']}, {memory_1['micro_f1']}, {memory_1['weighted_f1']}\")\n",
    "print(f\"memory_2: {memory_2['macro_f1']}, {memory_2['micro_f1']}, {memory_2['weighted_f1']}\")\n",
    "print(f\"rag: {rag['macro_f1']}, {rag['micro_f1']}, {rag['weighted_f1']}\")"
   ]
  },
  {
   "cell_type": "code",
   "execution_count": 3,
   "metadata": {},
   "outputs": [
    {
     "name": "stdout",
     "output_type": "stream",
     "text": [
      "main_1: 0.793, 0.879, 0.882\n",
      "main_2: 0.686, 0.768, 0.766\n",
      "zs: 0.767, 0.838, 0.838\n",
      "rules_1: 0.769, 0.86, 0.867\n",
      "rules_2: 0.658, 0.755, 0.753\n",
      "memory_1: 0.722, 0.82, 0.817\n",
      "memory_2: 0.708, 0.808, 0.809\n",
      "rag: 0.715, 0.807, 0.803\n"
     ]
    }
   ],
   "source": [
    "df = pd.read_csv(\"/home/yl3427/cylab/selfCorrectionAgent/results_t_stage_run_3.csv\")\n",
    "main_1 = 'experiment_t_stage_pred_llm_mem'\n",
    "main_2 = 'experiment_t_stage_pred_rag_mem'\n",
    "zs = 'experiment_t_stage_pred_zs'\n",
    "rules_1 = 'experiment_t_stage_pred_llm_rulesonly'\n",
    "rules_2 = 'experiment_t_stage_pred_rag_rulesonly'\n",
    "memory_1 = 'experiment_t_stage_pred_memonly'\n",
    "memory_2 = 'experiment_t_stage_pred_memonly2'\n",
    "rag = 'experiment_t_stage_pred_rag_only'\n",
    "\n",
    "main_1 = t14_calculate_metrics2(df['t'],df[main_1])['overall']\n",
    "main_2 = t14_calculate_metrics2(df['t'],df[main_2])['overall']\n",
    "zs = t14_calculate_metrics2(df['t'], df[zs])['overall']\n",
    "rules_1 = t14_calculate_metrics2(df['t'], df[rules_1])['overall']\n",
    "rules_2 = t14_calculate_metrics2(df['t'], df[rules_2])['overall']\n",
    "memory_1 = t14_calculate_metrics2(df['t'], df[memory_1])['overall']\n",
    "memory_2 = t14_calculate_metrics2(df['t'], df[memory_2])['overall']\n",
    "rag = t14_calculate_metrics2(df['t'], df[rag])['overall']\n",
    "\n",
    "print(f\"main_1: {main_1['macro_f1']}, {main_1['micro_f1']}, {main_1['weighted_f1']}\")\n",
    "print(f\"main_2: {main_2['macro_f1']}, {main_2['micro_f1']}, {main_2['weighted_f1']}\")\n",
    "print(f\"zs: {zs['macro_f1']}, {zs['micro_f1']}, {zs['weighted_f1']}\")\n",
    "print(f\"rules_1: {rules_1['macro_f1']}, {rules_1['micro_f1']}, {rules_1['weighted_f1']}\")\n",
    "print(f\"rules_2: {rules_2['macro_f1']}, {rules_2['micro_f1']}, {rules_2['weighted_f1']}\")\n",
    "print(f\"memory_1: {memory_1['macro_f1']}, {memory_1['micro_f1']}, {memory_1['weighted_f1']}\")\n",
    "print(f\"memory_2: {memory_2['macro_f1']}, {memory_2['micro_f1']}, {memory_2['weighted_f1']}\")\n",
    "print(f\"rag: {rag['macro_f1']}, {rag['micro_f1']}, {rag['weighted_f1']}\")"
   ]
  },
  {
   "cell_type": "code",
   "execution_count": 6,
   "metadata": {},
   "outputs": [
    {
     "data": {
      "text/plain": [
       "array([1, 2, 0, 3])"
      ]
     },
     "execution_count": 6,
     "metadata": {},
     "output_type": "execute_result"
    }
   ],
   "source": [
    "df = pd.read_csv(\"/secure/shared_data/rag_tnm_results/summary/5_folds_summary/luad_df.csv\")\n",
    "df.t.unique()"
   ]
  }
 ],
 "metadata": {
  "kernelspec": {
   "display_name": "base",
   "language": "python",
   "name": "python3"
  },
  "language_info": {
   "codemirror_mode": {
    "name": "ipython",
    "version": 3
   },
   "file_extension": ".py",
   "mimetype": "text/x-python",
   "name": "python",
   "nbconvert_exporter": "python",
   "pygments_lexer": "ipython3",
   "version": "3.10.13"
  }
 },
 "nbformat": 4,
 "nbformat_minor": 2
}
